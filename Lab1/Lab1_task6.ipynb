{
 "cells": [
  {
   "cell_type": "markdown",
   "id": "29760e50",
   "metadata": {},
   "source": [
    "### Задача 6.1\n",
    "\n",
    "Рассмотрим задачу предсказание числа заболевших некоторой болезнью от некоторых экологических анализов (см. файл). Гарантируется, что предсказание описывается линейной моделью.\n",
    "\n",
    "Так как проведение анализов не является бесплатным, то стоит вопрос о том какие из анализов являются лишними (на уровне значимости $\\alpha=0.05$) для предсказания линейной модели.\n",
    "\n",
    "Требуется:\n",
    "\n",
    "* Записать задачу формально;\n",
    "* Провести отбор признаков линейной модели.\n",
    "\n",
    "Все выкладки должны быть сделаны аналитически, без использования компьютера. (допускается использование компютера для подстановвки численых значений в финальную формулу)"
   ]
  },
  {
   "cell_type": "code",
   "execution_count": 8,
   "id": "9e741bfa",
   "metadata": {},
   "outputs": [],
   "source": [
    "from statsmodels.api import GLM\n",
    "from scipy.stats.stats import pearsonr\n",
    "from numpy.linalg import inv, norm\n",
    "import scipy.stats as st\n",
    "import numpy as np\n",
    "from numpy.linalg import norm, inv"
   ]
  },
  {
   "cell_type": "code",
   "execution_count": 9,
   "id": "6822665d",
   "metadata": {},
   "outputs": [
    {
     "data": {
      "text/html": [
       "<div>\n",
       "<style scoped>\n",
       "    .dataframe tbody tr th:only-of-type {\n",
       "        vertical-align: middle;\n",
       "    }\n",
       "\n",
       "    .dataframe tbody tr th {\n",
       "        vertical-align: top;\n",
       "    }\n",
       "\n",
       "    .dataframe thead th {\n",
       "        text-align: right;\n",
       "    }\n",
       "</style>\n",
       "<table border=\"1\" class=\"dataframe\">\n",
       "  <thead>\n",
       "    <tr style=\"text-align: right;\">\n",
       "      <th></th>\n",
       "      <th>x1</th>\n",
       "      <th>x2</th>\n",
       "      <th>x3</th>\n",
       "      <th>x4</th>\n",
       "      <th>x5</th>\n",
       "      <th>x6</th>\n",
       "      <th>x7</th>\n",
       "      <th>x8</th>\n",
       "      <th>x9</th>\n",
       "      <th>x10</th>\n",
       "      <th>Y</th>\n",
       "    </tr>\n",
       "  </thead>\n",
       "  <tbody>\n",
       "    <tr>\n",
       "      <th>0</th>\n",
       "      <td>-0.5</td>\n",
       "      <td>-0.1</td>\n",
       "      <td>-1.2</td>\n",
       "      <td>-0.6</td>\n",
       "      <td>-1.1</td>\n",
       "      <td>1.4</td>\n",
       "      <td>-1.4</td>\n",
       "      <td>1.2</td>\n",
       "      <td>-0.2</td>\n",
       "      <td>-0.2</td>\n",
       "      <td>0.0</td>\n",
       "    </tr>\n",
       "    <tr>\n",
       "      <th>1</th>\n",
       "      <td>1.0</td>\n",
       "      <td>0.4</td>\n",
       "      <td>0.5</td>\n",
       "      <td>-1.1</td>\n",
       "      <td>0.6</td>\n",
       "      <td>-0.1</td>\n",
       "      <td>-0.2</td>\n",
       "      <td>-0.7</td>\n",
       "      <td>-0.5</td>\n",
       "      <td>0.4</td>\n",
       "      <td>1.0</td>\n",
       "    </tr>\n",
       "    <tr>\n",
       "      <th>2</th>\n",
       "      <td>0.3</td>\n",
       "      <td>-0.9</td>\n",
       "      <td>0.8</td>\n",
       "      <td>-0.3</td>\n",
       "      <td>-0.2</td>\n",
       "      <td>-1.4</td>\n",
       "      <td>0.4</td>\n",
       "      <td>1.6</td>\n",
       "      <td>1.0</td>\n",
       "      <td>-0.3</td>\n",
       "      <td>3.0</td>\n",
       "    </tr>\n",
       "    <tr>\n",
       "      <th>3</th>\n",
       "      <td>-1.1</td>\n",
       "      <td>-0.5</td>\n",
       "      <td>0.5</td>\n",
       "      <td>1.8</td>\n",
       "      <td>0.3</td>\n",
       "      <td>-0.3</td>\n",
       "      <td>-0.1</td>\n",
       "      <td>0.4</td>\n",
       "      <td>1.0</td>\n",
       "      <td>0.3</td>\n",
       "      <td>3.0</td>\n",
       "    </tr>\n",
       "    <tr>\n",
       "      <th>4</th>\n",
       "      <td>1.9</td>\n",
       "      <td>0.6</td>\n",
       "      <td>0.4</td>\n",
       "      <td>0.7</td>\n",
       "      <td>-2.9</td>\n",
       "      <td>0.5</td>\n",
       "      <td>-0.9</td>\n",
       "      <td>-1.5</td>\n",
       "      <td>0.9</td>\n",
       "      <td>-3.1</td>\n",
       "      <td>1.0</td>\n",
       "    </tr>\n",
       "  </tbody>\n",
       "</table>\n",
       "</div>"
      ],
      "text/plain": [
       "    x1   x2   x3   x4   x5   x6   x7   x8   x9  x10    Y\n",
       "0 -0.5 -0.1 -1.2 -0.6 -1.1  1.4 -1.4  1.2 -0.2 -0.2  0.0\n",
       "1  1.0  0.4  0.5 -1.1  0.6 -0.1 -0.2 -0.7 -0.5  0.4  1.0\n",
       "2  0.3 -0.9  0.8 -0.3 -0.2 -1.4  0.4  1.6  1.0 -0.3  3.0\n",
       "3 -1.1 -0.5  0.5  1.8  0.3 -0.3 -0.1  0.4  1.0  0.3  3.0\n",
       "4  1.9  0.6  0.4  0.7 -2.9  0.5 -0.9 -1.5  0.9 -3.1  1.0"
      ]
     },
     "execution_count": 9,
     "metadata": {},
     "output_type": "execute_result"
    }
   ],
   "source": [
    "import pandas as pd\n",
    "sick = pd.read_csv('data/sick.csv')\n",
    "sick.head()"
   ]
  },
  {
   "cell_type": "markdown",
   "id": "1c23ebf6",
   "metadata": {},
   "source": [
    "Сначала просто прикинем результат с помощью копмьютера)"
   ]
  },
  {
   "cell_type": "code",
   "execution_count": 10,
   "id": "55fe69ef",
   "metadata": {},
   "outputs": [
    {
     "data": {
      "text/html": [
       "<table class=\"simpletable\">\n",
       "<caption>Generalized Linear Model Regression Results</caption>\n",
       "<tr>\n",
       "  <th>Dep. Variable:</th>           <td>Y</td>        <th>  No. Observations:  </th>  <td>    30</td> \n",
       "</tr>\n",
       "<tr>\n",
       "  <th>Model:</th>                  <td>GLM</td>       <th>  Df Residuals:      </th>  <td>    19</td> \n",
       "</tr>\n",
       "<tr>\n",
       "  <th>Model Family:</th>        <td>Gaussian</td>     <th>  Df Model:          </th>  <td>    10</td> \n",
       "</tr>\n",
       "<tr>\n",
       "  <th>Link Function:</th>       <td>identity</td>     <th>  Scale:             </th> <td>  4.2355</td>\n",
       "</tr>\n",
       "<tr>\n",
       "  <th>Method:</th>                <td>IRLS</td>       <th>  Log-Likelihood:    </th> <td> -57.369</td>\n",
       "</tr>\n",
       "<tr>\n",
       "  <th>Date:</th>            <td>Mon, 04 Apr 2022</td> <th>  Deviance:          </th> <td>  80.474</td>\n",
       "</tr>\n",
       "<tr>\n",
       "  <th>Time:</th>                <td>23:45:56</td>     <th>  Pearson chi2:      </th>  <td>  80.5</td> \n",
       "</tr>\n",
       "<tr>\n",
       "  <th>No. Iterations:</th>          <td>3</td>        <th>                     </th>     <td> </td>   \n",
       "</tr>\n",
       "<tr>\n",
       "  <th>Covariance Type:</th>     <td>nonrobust</td>    <th>                     </th>     <td> </td>   \n",
       "</tr>\n",
       "</table>\n",
       "<table class=\"simpletable\">\n",
       "<tr>\n",
       "      <td></td>         <th>coef</th>     <th>std err</th>      <th>z</th>      <th>P>|z|</th>  <th>[0.025</th>    <th>0.975]</th>  \n",
       "</tr>\n",
       "<tr>\n",
       "  <th>Intercept</th> <td>    1.9411</td> <td>    0.491</td> <td>    3.954</td> <td> 0.000</td> <td>    0.979</td> <td>    2.903</td>\n",
       "</tr>\n",
       "<tr>\n",
       "  <th>x1</th>        <td>   -0.8668</td> <td>    0.380</td> <td>   -2.284</td> <td> 0.022</td> <td>   -1.611</td> <td>   -0.123</td>\n",
       "</tr>\n",
       "<tr>\n",
       "  <th>x2</th>        <td>    0.3373</td> <td>    0.456</td> <td>    0.739</td> <td> 0.460</td> <td>   -0.557</td> <td>    1.232</td>\n",
       "</tr>\n",
       "<tr>\n",
       "  <th>x3</th>        <td>    2.9763</td> <td>    0.527</td> <td>    5.651</td> <td> 0.000</td> <td>    1.944</td> <td>    4.009</td>\n",
       "</tr>\n",
       "<tr>\n",
       "  <th>x4</th>        <td>    0.4234</td> <td>    0.355</td> <td>    1.193</td> <td> 0.233</td> <td>   -0.272</td> <td>    1.119</td>\n",
       "</tr>\n",
       "<tr>\n",
       "  <th>x5</th>        <td>    0.0855</td> <td>    0.516</td> <td>    0.166</td> <td> 0.869</td> <td>   -0.927</td> <td>    1.098</td>\n",
       "</tr>\n",
       "<tr>\n",
       "  <th>x6</th>        <td>   -0.4043</td> <td>    0.430</td> <td>   -0.940</td> <td> 0.347</td> <td>   -1.247</td> <td>    0.438</td>\n",
       "</tr>\n",
       "<tr>\n",
       "  <th>x7</th>        <td>   -0.3956</td> <td>    0.438</td> <td>   -0.903</td> <td> 0.367</td> <td>   -1.255</td> <td>    0.464</td>\n",
       "</tr>\n",
       "<tr>\n",
       "  <th>x8</th>        <td>    0.1615</td> <td>    0.472</td> <td>    0.342</td> <td> 0.732</td> <td>   -0.763</td> <td>    1.086</td>\n",
       "</tr>\n",
       "<tr>\n",
       "  <th>x9</th>        <td>    0.0899</td> <td>    0.461</td> <td>    0.195</td> <td> 0.845</td> <td>   -0.814</td> <td>    0.994</td>\n",
       "</tr>\n",
       "<tr>\n",
       "  <th>x10</th>       <td>   -0.0148</td> <td>    0.550</td> <td>   -0.027</td> <td> 0.979</td> <td>   -1.092</td> <td>    1.063</td>\n",
       "</tr>\n",
       "</table>"
      ],
      "text/plain": [
       "<class 'statsmodels.iolib.summary.Summary'>\n",
       "\"\"\"\n",
       "                 Generalized Linear Model Regression Results                  \n",
       "==============================================================================\n",
       "Dep. Variable:                      Y   No. Observations:                   30\n",
       "Model:                            GLM   Df Residuals:                       19\n",
       "Model Family:                Gaussian   Df Model:                           10\n",
       "Link Function:               identity   Scale:                          4.2355\n",
       "Method:                          IRLS   Log-Likelihood:                -57.369\n",
       "Date:                Mon, 04 Apr 2022   Deviance:                       80.474\n",
       "Time:                        23:45:56   Pearson chi2:                     80.5\n",
       "No. Iterations:                     3                                         \n",
       "Covariance Type:            nonrobust                                         \n",
       "==============================================================================\n",
       "                 coef    std err          z      P>|z|      [0.025      0.975]\n",
       "------------------------------------------------------------------------------\n",
       "Intercept      1.9411      0.491      3.954      0.000       0.979       2.903\n",
       "x1            -0.8668      0.380     -2.284      0.022      -1.611      -0.123\n",
       "x2             0.3373      0.456      0.739      0.460      -0.557       1.232\n",
       "x3             2.9763      0.527      5.651      0.000       1.944       4.009\n",
       "x4             0.4234      0.355      1.193      0.233      -0.272       1.119\n",
       "x5             0.0855      0.516      0.166      0.869      -0.927       1.098\n",
       "x6            -0.4043      0.430     -0.940      0.347      -1.247       0.438\n",
       "x7            -0.3956      0.438     -0.903      0.367      -1.255       0.464\n",
       "x8             0.1615      0.472      0.342      0.732      -0.763       1.086\n",
       "x9             0.0899      0.461      0.195      0.845      -0.814       0.994\n",
       "x10           -0.0148      0.550     -0.027      0.979      -1.092       1.063\n",
       "==============================================================================\n",
       "\"\"\""
      ]
     },
     "execution_count": 10,
     "metadata": {},
     "output_type": "execute_result"
    }
   ],
   "source": [
    "formula = 'Y ~ ' + ''.join([f'x{x} + ' for x in range(1, 11)]) + '1'\n",
    "\n",
    "model = GLM.from_formula(formula, data=sick).fit()\n",
    "model.summary()"
   ]
  },
  {
   "cell_type": "markdown",
   "id": "8e63b908",
   "metadata": {},
   "source": [
    "Отсюда видно, что значимыми являются x1 и x3"
   ]
  },
  {
   "cell_type": "code",
   "execution_count": 11,
   "id": "91e59396",
   "metadata": {},
   "outputs": [
    {
     "data": {
      "text/html": [
       "<table class=\"simpletable\">\n",
       "<caption>Generalized Linear Model Regression Results</caption>\n",
       "<tr>\n",
       "  <th>Dep. Variable:</th>           <td>Y</td>        <th>  No. Observations:  </th>  <td>    30</td> \n",
       "</tr>\n",
       "<tr>\n",
       "  <th>Model:</th>                  <td>GLM</td>       <th>  Df Residuals:      </th>  <td>    27</td> \n",
       "</tr>\n",
       "<tr>\n",
       "  <th>Model Family:</th>        <td>Gaussian</td>     <th>  Df Model:          </th>  <td>     2</td> \n",
       "</tr>\n",
       "<tr>\n",
       "  <th>Link Function:</th>       <td>identity</td>     <th>  Scale:             </th> <td>  3.5502</td>\n",
       "</tr>\n",
       "<tr>\n",
       "  <th>Method:</th>                <td>IRLS</td>       <th>  Log-Likelihood:    </th> <td> -59.993</td>\n",
       "</tr>\n",
       "<tr>\n",
       "  <th>Date:</th>            <td>Mon, 04 Apr 2022</td> <th>  Deviance:          </th> <td>  95.856</td>\n",
       "</tr>\n",
       "<tr>\n",
       "  <th>Time:</th>                <td>23:45:57</td>     <th>  Pearson chi2:      </th>  <td>  95.9</td> \n",
       "</tr>\n",
       "<tr>\n",
       "  <th>No. Iterations:</th>          <td>3</td>        <th>                     </th>     <td> </td>   \n",
       "</tr>\n",
       "<tr>\n",
       "  <th>Covariance Type:</th>     <td>nonrobust</td>    <th>                     </th>     <td> </td>   \n",
       "</tr>\n",
       "</table>\n",
       "<table class=\"simpletable\">\n",
       "<tr>\n",
       "      <td></td>         <th>coef</th>     <th>std err</th>      <th>z</th>      <th>P>|z|</th>  <th>[0.025</th>    <th>0.975]</th>  \n",
       "</tr>\n",
       "<tr>\n",
       "  <th>Intercept</th> <td>    1.7281</td> <td>    0.367</td> <td>    4.711</td> <td> 0.000</td> <td>    1.009</td> <td>    2.447</td>\n",
       "</tr>\n",
       "<tr>\n",
       "  <th>x1</th>        <td>   -0.7420</td> <td>    0.297</td> <td>   -2.497</td> <td> 0.013</td> <td>   -1.324</td> <td>   -0.160</td>\n",
       "</tr>\n",
       "<tr>\n",
       "  <th>x3</th>        <td>    3.1980</td> <td>    0.433</td> <td>    7.392</td> <td> 0.000</td> <td>    2.350</td> <td>    4.046</td>\n",
       "</tr>\n",
       "</table>"
      ],
      "text/plain": [
       "<class 'statsmodels.iolib.summary.Summary'>\n",
       "\"\"\"\n",
       "                 Generalized Linear Model Regression Results                  \n",
       "==============================================================================\n",
       "Dep. Variable:                      Y   No. Observations:                   30\n",
       "Model:                            GLM   Df Residuals:                       27\n",
       "Model Family:                Gaussian   Df Model:                            2\n",
       "Link Function:               identity   Scale:                          3.5502\n",
       "Method:                          IRLS   Log-Likelihood:                -59.993\n",
       "Date:                Mon, 04 Apr 2022   Deviance:                       95.856\n",
       "Time:                        23:45:57   Pearson chi2:                     95.9\n",
       "No. Iterations:                     3                                         \n",
       "Covariance Type:            nonrobust                                         \n",
       "==============================================================================\n",
       "                 coef    std err          z      P>|z|      [0.025      0.975]\n",
       "------------------------------------------------------------------------------\n",
       "Intercept      1.7281      0.367      4.711      0.000       1.009       2.447\n",
       "x1            -0.7420      0.297     -2.497      0.013      -1.324      -0.160\n",
       "x3             3.1980      0.433      7.392      0.000       2.350       4.046\n",
       "==============================================================================\n",
       "\"\"\""
      ]
     },
     "execution_count": 11,
     "metadata": {},
     "output_type": "execute_result"
    }
   ],
   "source": [
    "model = GLM.from_formula('Y ~ x1 + x3 + 1', data=sick).fit()\n",
    "model.summary()"
   ]
  },
  {
   "cell_type": "markdown",
   "id": "1f498298",
   "metadata": {},
   "source": [
    "Будем добавлять в модель по одну признаку из массива признаков, отсортированному по убыванию модуля коэффициента корреляции Пирсона с целлевой переменной (то есть сначала добаляем в модель признак, наиболее скоррелированный с целевой переменной)\n",
    "\n",
    "Затем с помощью критерия Фишера проверяем гипотезу о том, что все остальные все остальные коэффициенты в модели равны нулю (на уровне значимости $\\alpha = 0.05$)\n",
    "\n",
    "Если гипотеза отклоняется, то добавляем в модель следующий признак. И так до тех пор, пока мы не примем гипотезу на заданном уровне значимости. "
   ]
  },
  {
   "cell_type": "code",
   "execution_count": 12,
   "id": "6b38c052",
   "metadata": {},
   "outputs": [
    {
     "name": "stdout",
     "output_type": "stream",
     "text": [
      "max_corr = 0.786, index = 3\n"
     ]
    }
   ],
   "source": [
    "correlations = [st.pearsonr(sick[f'x{i}'], sick['Y'])[0] for i in range(1, sick.shape[1])]\n",
    "max_corr = max(correlations)\n",
    "print('max_corr = {:.3f}, index = {}'.format(max_corr, correlations.index(max_corr)+1))"
   ]
  },
  {
   "cell_type": "markdown",
   "id": "a9d5be6f",
   "metadata": {},
   "source": [
    "Значит сначала строим модель с одним признаком (и ещё intercept). То есть $y = \\beta_0 + \\beta_3 \\cdot x_3$"
   ]
  },
  {
   "cell_type": "markdown",
   "id": "fbe290bb",
   "metadata": {},
   "source": [
    "Критерий Фишера:\n",
    "\n",
    "$H_0: \\beta_2 = 0$\n",
    "\n",
    "$H_1:$ нулевая гипотеза неверна\n",
    "\n",
    "$\\underset{(k+1)\\times1}{\\beta^T} = \\Bigg(\\underset{(k+1-k_1) \\times 1}{\\beta_1^T}, \\underset{k_1 \\times 1}{\\beta_2^T}\\Bigg)^T $,\n",
    "$\\underset{n\\times(k+1)}{X} = \\Bigg(\\underset{n \\times (k+1-k_1)}{X_1}, \\underset{n \\times k_1}{X_2}\\Bigg)^T $,\n",
    "$RSS_r = ||y-X_1 \\beta_1||_2^2$,  $RSS_{ur} = ||y-X \\beta||_2^2$\n",
    "\n",
    "Статистика: $$F = \\frac{(RSS_r - RSS_{ur})/k_1}{RSS_{ur}/(n-k-1)}$$\n",
    "\n",
    "Нулевое распределение: $F(k_1, n-k-1)$ - распределение Фишера"
   ]
  },
  {
   "cell_type": "code",
   "execution_count": 13,
   "id": "1a17a0b0",
   "metadata": {},
   "outputs": [],
   "source": [
    "def Fisher_criterion(columns='x3'):\n",
    "    X1 = np.c_[np.ones(sick.shape[0]), sick[columns].to_numpy()] \n",
    "    X = np.c_[np.ones(sick.shape[0]), sick.drop(columns='Y').to_numpy()] \n",
    "\n",
    "    b1 = inv(X1.T @ X1) @ X1.T @ sick['Y']\n",
    "    b = inv(X.T @ X) @ X.T @ sick['Y']\n",
    "\n",
    "    RSS_r = norm(sick['Y'] - X1 @ inv(X1.T @ X1) @ X1.T @ sick['Y'])\n",
    "    RSS_ur = norm(sick['Y'] - X @ inv(X.T @ X) @ X.T @ sick['Y'])\n",
    "    \n",
    "    dfn = X.shape[1] - X1.shape[1]\n",
    "    dfd = X.shape[0] - X.shape[1] - 1 \n",
    "    \n",
    "    F = ((RSS_r - RSS_ur)/dfn)/(RSS_ur/dfd)\n",
    "    F_cr = st.f.ppf(0.95, dfn, dfd)    \n",
    "    p_value = st.f.sf(F, dfn, dfd)\n",
    "    \n",
    "    return F, F_cr, p_value"
   ]
  },
  {
   "cell_type": "code",
   "execution_count": 22,
   "id": "5b81edb9",
   "metadata": {},
   "outputs": [
    {
     "name": "stdout",
     "output_type": "stream",
     "text": [
      "T = 0.4218351979686487, T_cr = 2.4562811491592678, p-value = 0.9063962989640306\n"
     ]
    }
   ],
   "source": [
    "print('T = {}, T_cr = {}, p-value = {}'.format(*Fisher_criterion('x3')))"
   ]
  },
  {
   "cell_type": "markdown",
   "id": "cbb6ed42",
   "metadata": {},
   "source": [
    "Хм...Ну вот мы и получили, что в принципе все остальные коэффициенты можно занулить. \n",
    "\n",
    "Хотя, очевидно, можно построить модель и лучше, добавив в неё переменныу x1"
   ]
  },
  {
   "cell_type": "code",
   "execution_count": 23,
   "id": "ba20d150",
   "metadata": {},
   "outputs": [
    {
     "name": "stdout",
     "output_type": "stream",
     "text": [
      "T = 0.20564382224294597, T_cr = 2.5101578953835753, p-value = 0.9859340472077198\n"
     ]
    }
   ],
   "source": [
    "print('T = {}, T_cr = {}, p-value = {}'.format(*Fisher_criterion(['x3', 'x1']) ))"
   ]
  },
  {
   "cell_type": "markdown",
   "id": "b04798b9",
   "metadata": {},
   "source": [
    "Таким образом, признаки ['x3', 'x1'] - наиболее значимые \n",
    "\n",
    "Коэффициенты у этой модели следующие (первых из них - intercept):"
   ]
  },
  {
   "cell_type": "code",
   "execution_count": 25,
   "id": "a4505aa7",
   "metadata": {},
   "outputs": [
    {
     "name": "stdout",
     "output_type": "stream",
     "text": [
      "[ 1.72806451  3.19797545 -0.74204352]\n"
     ]
    }
   ],
   "source": [
    "X1 = np.c_[np.ones(sick.shape[0]), sick[['x3', 'x1']].to_numpy()] \n",
    "b1 = inv(X1.T @ X1) @ X1.T @ sick['Y']\n",
    "print(b1)"
   ]
  }
 ],
 "metadata": {
  "kernelspec": {
   "display_name": "Python 3 (ipykernel)",
   "language": "python",
   "name": "python3"
  },
  "language_info": {
   "codemirror_mode": {
    "name": "ipython",
    "version": 3
   },
   "file_extension": ".py",
   "mimetype": "text/x-python",
   "name": "python",
   "nbconvert_exporter": "python",
   "pygments_lexer": "ipython3",
   "version": "3.9.7"
  }
 },
 "nbformat": 4,
 "nbformat_minor": 5
}
