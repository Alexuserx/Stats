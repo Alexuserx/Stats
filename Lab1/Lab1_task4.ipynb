{
 "cells": [
  {
   "cell_type": "markdown",
   "id": "de9261bd",
   "metadata": {},
   "source": [
    "### Задача 4.2\n",
    "Рассмотрим некоторую задачу классификации. Пусть задано качество 4 моделей $a_1, a_2, a_3, a_4$. Качество полученных моделей показано в таблице.\n",
    "\n",
    "Исследователю требуется выбрать наилучшую модель. Для выбора лучшей модели исследовать требуется попарно сравнить среднее значение качества всех моделей. Может ли исследователь утверждать что какая-то из моделей лучше другой?\n",
    "\n",
    "Требуется:\n",
    "\n",
    "* записать задачу формально;\n",
    "* предложить статистику для решения данной задачи;\n",
    "* записать нулевое распределение данной статистики;\n",
    "* записать явно правило принятия решения на основе статистики и нулевого распределения для обеспечения уровня значимости $\\alpha = 0.05$;\n",
    "* проверить гипотезу по записанному критерию, для данных из условия. Противоречат ли они гипотезе?\n",
    "\n",
    "Все выкладки должны быть сделаны аналитически, без использования компьютера. (допускается использование компютера для подстановвки численых значений в финальную формулу)"
   ]
  },
  {
   "cell_type": "code",
   "execution_count": 1,
   "id": "7988da4a",
   "metadata": {},
   "outputs": [
    {
     "data": {
      "text/html": [
       "<div>\n",
       "<style scoped>\n",
       "    .dataframe tbody tr th:only-of-type {\n",
       "        vertical-align: middle;\n",
       "    }\n",
       "\n",
       "    .dataframe tbody tr th {\n",
       "        vertical-align: top;\n",
       "    }\n",
       "\n",
       "    .dataframe thead th {\n",
       "        text-align: right;\n",
       "    }\n",
       "</style>\n",
       "<table border=\"1\" class=\"dataframe\">\n",
       "  <thead>\n",
       "    <tr style=\"text-align: right;\">\n",
       "      <th></th>\n",
       "      <th>a1</th>\n",
       "      <th>a2</th>\n",
       "      <th>a3</th>\n",
       "      <th>a4</th>\n",
       "    </tr>\n",
       "    <tr>\n",
       "      <th>Номер выборки</th>\n",
       "      <th></th>\n",
       "      <th></th>\n",
       "      <th></th>\n",
       "      <th></th>\n",
       "    </tr>\n",
       "  </thead>\n",
       "  <tbody>\n",
       "    <tr>\n",
       "      <th>1</th>\n",
       "      <td>86</td>\n",
       "      <td>50</td>\n",
       "      <td>93</td>\n",
       "      <td>13</td>\n",
       "    </tr>\n",
       "    <tr>\n",
       "      <th>2</th>\n",
       "      <td>85</td>\n",
       "      <td>74</td>\n",
       "      <td>55</td>\n",
       "      <td>35</td>\n",
       "    </tr>\n",
       "    <tr>\n",
       "      <th>3</th>\n",
       "      <td>53</td>\n",
       "      <td>92</td>\n",
       "      <td>58</td>\n",
       "      <td>51</td>\n",
       "    </tr>\n",
       "    <tr>\n",
       "      <th>4</th>\n",
       "      <td>44</td>\n",
       "      <td>41</td>\n",
       "      <td>56</td>\n",
       "      <td>37</td>\n",
       "    </tr>\n",
       "    <tr>\n",
       "      <th>5</th>\n",
       "      <td>2</td>\n",
       "      <td>18</td>\n",
       "      <td>99</td>\n",
       "      <td>26</td>\n",
       "    </tr>\n",
       "    <tr>\n",
       "      <th>6</th>\n",
       "      <td>5</td>\n",
       "      <td>68</td>\n",
       "      <td>35</td>\n",
       "      <td>17</td>\n",
       "    </tr>\n",
       "  </tbody>\n",
       "</table>\n",
       "</div>"
      ],
      "text/plain": [
       "               a1  a2  a3  a4\n",
       "Номер выборки                \n",
       "1              86  50  93  13\n",
       "2              85  74  55  35\n",
       "3              53  92  58  51\n",
       "4              44  41  56  37\n",
       "5               2  18  99  26\n",
       "6               5  68  35  17"
      ]
     },
     "execution_count": 1,
     "metadata": {},
     "output_type": "execute_result"
    }
   ],
   "source": [
    "import pandas as pd\n",
    "import scipy.stats as st\n",
    "from itertools import combinations\n",
    "from  statsmodels.stats.weightstats import ttest_ind\n",
    "from statsmodels.stats.multitest import multipletests\n",
    "\n",
    "classifiers = pd.read_csv('data/classifiers.csv', sep = ',', index_col = 'Номер выборки')\n",
    "classifiers"
   ]
  },
  {
   "cell_type": "code",
   "execution_count": 2,
   "id": "0497b229",
   "metadata": {},
   "outputs": [
    {
     "data": {
      "text/plain": [
       "a1    45.833333\n",
       "a2    57.166667\n",
       "a3    66.000000\n",
       "a4    29.833333\n",
       "Name: mean, dtype: float64"
      ]
     },
     "execution_count": 2,
     "metadata": {},
     "output_type": "execute_result"
    }
   ],
   "source": [
    "classifiers.describe().loc['mean']"
   ]
  },
  {
   "cell_type": "code",
   "execution_count": 3,
   "id": "b8f64939",
   "metadata": {},
   "outputs": [],
   "source": [
    "classifiers_np = classifiers.to_numpy().T"
   ]
  },
  {
   "cell_type": "code",
   "execution_count": 4,
   "id": "d19e77bf",
   "metadata": {},
   "outputs": [
    {
     "name": "stdout",
     "output_type": "stream",
     "text": [
      "p_value for classifier 1 (Shapiro, Jarque-Bera) = (0.26456114649772644, 0.7459629534933241)\n",
      "p_value for classifier 2 (Shapiro, Jarque-Bera) = (0.9791138768196106, 0.865335484560948)\n",
      "p_value for classifier 3 (Shapiro, Jarque-Bera) = (0.2797580063343048, 0.7677030867299224)\n",
      "p_value for classifier 4 (Shapiro, Jarque-Bera) = (0.8345257043838501, 0.8381024992031822)\n",
      "p_value for all classifiers (Shapiro, Jarque-Bera) = (0.4981343448162079, 0.6286467415823447)\n"
     ]
    }
   ],
   "source": [
    "for i, x in enumerate(classifiers_np):\n",
    "    print('p_value for classifier {} (Shapiro, Jarque-Bera) = ({}, {})'.format(i+1, st.shapiro(x)[-1], st.jarque_bera(x)[-1]))\n",
    "\n",
    "y = classifiers_np.flatten()\n",
    "print('p_value for all classifiers (Shapiro, Jarque-Bera) = ({}, {})'.format(st.shapiro(y)[-1], st.jarque_bera(y)[-1]))"
   ]
  },
  {
   "cell_type": "markdown",
   "id": "de916c16",
   "metadata": {},
   "source": [
    "Исходя из этого можно считать, что результаты каждого классификатора подчиняются нормальному распределению.\n",
    "\n",
    "Следовательно, средние значения классификаторов можно сравнивать  попарно с помощью Т-теста. Также можно использовать критерий знаковых раногов Уилкоксона (для этого распределения не обязательно должны быть нормальными) "
   ]
  },
  {
   "cell_type": "markdown",
   "id": "a2ff69e0",
   "metadata": {},
   "source": [
    "Формальная запись задачи: дана выборка $X_1, X_2, X_3, X_4$, где $X_i$ - качество классификации $i$-ой модели. Размер $X_i$ равен $6 \\; \\forall i$ (6 измерений для кажой модели)\n",
    "\n",
    "По условию не совсем понятно, чего мы именно хотим. Выбрать лучшую модель из всех? (ели верить фразе \"Для выбора лучшей модели исследователю требуется попарно сравнить среднее значение качества всех моделей\"). Или выбрать модель, которая будет лучше какой-то другой? (если верить фразе \"Может ли исследователь утверждать что какая-то из моделей лучше другой?\")\n",
    "\n",
    "Если мы хотим проверить утверждение о том,что существуют 2 модели, качество одной из которых выше, чем у другой, то:\n",
    "\n",
    "$H_0: \\; \\exists i, j \\; (i \\ne j): \\; E(X_i)>E(X_j)$\n",
    "\n",
    "$H_1:$ нулевая гипотеза неверна \n",
    "\n",
    "Если же мы хотим проверить утверждение о том, что существует модель, которая лучше, чем всё другие, то:\n",
    "\n",
    "$H_0: \\; \\exists i: \\; E(X_i)>E(X_j) \\; \\forall j: \\; i \\ne j$\n",
    "\n",
    "$H_1:$ нулевая гипотеза неверна\n",
    "\n",
    "Логичнее было бы проверять именно вторую второй вариант - так и сделаем. \n",
    "\n",
    "Будем проверять гипотезу попарным сравнением среднего качества моделей моделей с помощью T-теста (с правосторонней альтернативой). Так как данная задача является $\\textbf{задачей множественного тестирования гипотез}$, то нам нужно будет учесть поправку на $p\\_value$"
   ]
  },
  {
   "cell_type": "markdown",
   "id": "7563edb1",
   "metadata": {},
   "source": [
    "Статистика T-test для двух выборок: $$T(X_1^{n_1}, X_2^{n_1}) = \\frac{\\overline{X_1}-\\overline{X_2}}{\\sqrt{\\frac{S_1^2}{n_1} + \\frac{S_2^2}{n_2}}}$$ ????"
   ]
  },
  {
   "cell_type": "code",
   "execution_count": 5,
   "id": "2ebeb1e1",
   "metadata": {},
   "outputs": [],
   "source": [
    "def test(data, testtype='ttest'):\n",
    "    rejections, p_values = 0, []\n",
    "    for x, y in combinations(data, 2):\n",
    "        if testtype=='wilcoxon':\n",
    "            p_value = st.wilcoxon(x, y, alternative='greater')[1]\n",
    "        elif testtype=='ttest':\n",
    "            p_value = st.ttest_ind(x, y, alternative='greater')[1]\n",
    "        else:\n",
    "            raise ValueError(\"There is no such test!\")\n",
    "        p_values.append(p_value)\n",
    "        rejections += p_value <= 0.05\n",
    "    return rejections, p_values"
   ]
  },
  {
   "cell_type": "markdown",
   "id": "fe0ab484",
   "metadata": {},
   "source": [
    "Так как в данном случае не отвергается гипотеза о том, что данные распределены нормально, любая из поправок (Бонферрнони, Холма, Шидака, Шидака-Холма, Бенджамини-Хохберга (про Бенджамини-Иекутиели я достоверно не знаю)) будет обеспечивать контроль над FWER на уровне 0.05 (выбранный уровень значимости)"
   ]
  },
  {
   "cell_type": "code",
   "execution_count": 6,
   "id": "03273f92",
   "metadata": {},
   "outputs": [
    {
     "name": "stdout",
     "output_type": "stream",
     "text": [
      "Rejections with bonferroni = 0 ---reject_array = [False False False False False False]\n",
      "\n",
      "Rejections with holm = 0 ---reject_array = [False False False False False False]\n",
      "\n",
      "Rejections with sidak = 0 ---reject_array = [False False False False False False]\n",
      "\n",
      "Rejections with holm-sidak = 0 ---reject_array = [False False False False False False]\n",
      "\n",
      "Rejections with fdr_bh = 0 ---reject_array = [False False False False False False]\n",
      "\n"
     ]
    }
   ],
   "source": [
    "methods = ['bonferroni', 'holm', 'sidak', 'holm-sidak', 'fdr_bh'] # 'fdr_by'\n",
    "p_values = test(classifiers_np, 'wilcoxon')[1]\n",
    "\n",
    "for method in methods:\n",
    "    reject_array, p_vals_corr, *_ = multipletests(p_values, method = method)\n",
    "    print('Rejections with {} = {} ---reject_array = {}\\n'.format(method, sum(reject_array), reject_array))"
   ]
  },
  {
   "cell_type": "markdown",
   "id": "197e2c05",
   "metadata": {},
   "source": [
    "При использовании критерия знаковых раногов Уилкоксона для попарного сравнения средних значений качества моделей отклоняется гипотеза о том, что есть модели с лучшим средним качеством (причём для любого из методов поправок)"
   ]
  },
  {
   "cell_type": "code",
   "execution_count": 7,
   "id": "5947219a",
   "metadata": {},
   "outputs": [
    {
     "name": "stdout",
     "output_type": "stream",
     "text": [
      "Rejections with bonferroni = 1 ---reject_array = [False False False False False  True]\n",
      "\n",
      "Rejections with holm = 1 ---reject_array = [False False False False False  True]\n",
      "\n",
      "Rejections with sidak = 1 ---reject_array = [False False False False False  True]\n",
      "\n",
      "Rejections with holm-sidak = 1 ---reject_array = [False False False False False  True]\n",
      "\n",
      "Rejections with fdr_bh = 1 ---reject_array = [False False False False False  True]\n",
      "\n"
     ]
    }
   ],
   "source": [
    "methods = ['bonferroni', 'holm', 'sidak', 'holm-sidak', 'fdr_bh'] # 'fdr_by'\n",
    "p_values = test(classifiers_np, 'ttest')[1]\n",
    "\n",
    "for method in methods:\n",
    "    reject_array, p_vals_corr, *_ = multipletests(p_values, method = method)\n",
    "    print('Rejections with {} = {} ---reject_array = {}\\n'.format(method, sum(reject_array), reject_array))"
   ]
  },
  {
   "cell_type": "markdown",
   "id": "67d93e84",
   "metadata": {},
   "source": [
    "При использовании T-теста для попарного сравнения средних значений качества моделей не отвергается гипотеза о том, что есть 2 модели, качество одной из которых выше, чем у другой (причём для любого из методов поправок). Зная как именно работет itertools.combinations, можно сказать, что не отвергается гипотеза о том, что среднее качество третьей модели выше, чем у четвёртой. \n",
    "\n",
    "То есть мы можем утвержать, что третья модель лучше четвёртой. "
   ]
  },
  {
   "cell_type": "markdown",
   "id": "a4a97bae",
   "metadata": {},
   "source": [
    "Попробуем отдельно сравнить третью модель с остальными - у неё самое большое среднее значение качества (это уже не относится напрямую к решению задачи)"
   ]
  },
  {
   "cell_type": "code",
   "execution_count": 8,
   "id": "929ce207",
   "metadata": {},
   "outputs": [
    {
     "name": "stdout",
     "output_type": "stream",
     "text": [
      "Rejections with bonferroni = 1, reject_array = [False False  True]\n",
      "\n",
      "Rejections with holm = 1, reject_array = [False False  True]\n",
      "\n",
      "Rejections with sidak = 1, reject_array = [False False  True]\n",
      "\n",
      "Rejections with holm-sidak = 1, reject_array = [False False  True]\n",
      "\n",
      "Rejections with fdr_bh = 1, reject_array = [False False  True]\n",
      "\n"
     ]
    }
   ],
   "source": [
    "def test_1vsall(data):\n",
    "    rejections, p_values = 0, []\n",
    "    for i, x in enumerate(data):\n",
    "        if i!=2:\n",
    "            p_value = st.wilcoxon(data[2], x, alternative='greater')[1]\n",
    "#             p_value = st.ttest_ind(data[2], x, alternative='greater')[1]\n",
    "            p_values.append(p_value)\n",
    "            rejections += p_value <= 0.05\n",
    "    return rejections, p_values\n",
    "\n",
    "methods = ['bonferroni', 'holm', 'sidak', 'holm-sidak', 'fdr_bh'] # 'fdr_by'\n",
    "p_values = test_1vsall(classifiers_np)[1]\n",
    "\n",
    "for method in methods:\n",
    "    reject_array, p_vals_corr, *_ = multipletests(p_values, method = method)\n",
    "    print('Rejections with {} = {}, reject_array = {}\\n'.format(method, sum(reject_array), reject_array))"
   ]
  },
  {
   "cell_type": "markdown",
   "id": "26028d17",
   "metadata": {},
   "source": [
    "В этом случае получается, третья модель лучше четвертой, но не лучше других. Так что получили аналогичный результат. "
   ]
  }
 ],
 "metadata": {
  "kernelspec": {
   "display_name": "Python 3 (ipykernel)",
   "language": "python",
   "name": "python3"
  },
  "language_info": {
   "codemirror_mode": {
    "name": "ipython",
    "version": 3
   },
   "file_extension": ".py",
   "mimetype": "text/x-python",
   "name": "python",
   "nbconvert_exporter": "python",
   "pygments_lexer": "ipython3",
   "version": "3.9.7"
  }
 },
 "nbformat": 4,
 "nbformat_minor": 5
}
