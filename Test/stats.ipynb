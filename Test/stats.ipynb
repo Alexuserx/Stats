{
  "nbformat": 4,
  "nbformat_minor": 0,
  "metadata": {
    "colab": {
      "name": "stats.ipynb",
      "provenance": [],
      "collapsed_sections": []
    },
    "kernelspec": {
      "name": "python3",
      "display_name": "Python 3"
    },
    "language_info": {
      "name": "python"
    }
  },
  "cells": [
    {
      "cell_type": "markdown",
      "source": [
        "$\\href{https://docs.scipy.org/doc/scipy/reference/stats.html}{SciPy.Stats} \\textbf{ - функции распределения, статистические тетсы, статистики, функции корреляции и прочее}$"
      ],
      "metadata": {
        "id": "CSo7z4GIADB7"
      }
    },
    {
      "cell_type": "markdown",
      "source": [
        "$\\Large\\textbf{Библиотеки}$"
      ],
      "metadata": {
        "id": "UyqY7aDO85iI"
      }
    },
    {
      "cell_type": "code",
      "execution_count": null,
      "metadata": {
        "id": "YmFDrQ78D0Ua"
      },
      "outputs": [],
      "source": [
        "import numpy as np\n",
        "import pandas as pd\n",
        "import seaborn as sns\n",
        "import scipy.stats as st \n",
        "import matplotlib.pylab as plt\n",
        "\n",
        "import re\n",
        "import itertools\n",
        "from zlib import crc32\n",
        "from itertools import combinations\n",
        "\n",
        "# критерий стюдента для независимых выборок\n",
        "from  statsmodels.stats.weightstats import ttest_ind\n",
        "\n",
        "# пакет для работы с множественным тестированием\n",
        "from statsmodels.stats.multitest import multipletests"
      ]
    },
    {
      "cell_type": "code",
      "source": [
        "import warnings\n",
        "warnings.filterwarnings(\"ignore\", category=FutureWarning)\n",
        "warnings.filterwarnings(\"ignore\", category=UserWarning)"
      ],
      "metadata": {
        "id": "e8IFnp9p0l9U"
      },
      "execution_count": null,
      "outputs": []
    },
    {
      "cell_type": "code",
      "source": [
        "!pip install cryptorandom permute arch"
      ],
      "metadata": {
        "id": "H3jqUdXrEEKK"
      },
      "execution_count": null,
      "outputs": []
    },
    {
      "cell_type": "code",
      "source": [
        "! pip install permutation_test"
      ],
      "metadata": {
        "id": "XmvrNbNuEEPe"
      },
      "execution_count": null,
      "outputs": []
    },
    {
      "cell_type": "code",
      "source": [
        "from statsmodels.stats.descriptivestats import sign_test\n",
        "from permute.core import one_sample, two_sample\n",
        "from arch.bootstrap import IIDBootstrap\n",
        "\n",
        "from permutation_test import permutationtest"
      ],
      "metadata": {
        "id": "_CYR0PxPEM_Y"
      },
      "execution_count": null,
      "outputs": []
    },
    {
      "cell_type": "code",
      "source": [
        "data = pd.read_csv('https://raw.githubusercontent.com/Intelligent-Systems-Phystech/psad/master/hometask/sem1/y.csv', header = None)"
      ],
      "metadata": {
        "id": "OZ60RUc_EaR0"
      },
      "execution_count": null,
      "outputs": []
    },
    {
      "cell_type": "markdown",
      "source": [
        "$\\textbf{Нахождение оценок выборочного среднего, выборочной медианы, выборочной моды и несмещенного стандартного отклонения. Поиск k - ой порядковой статистики.}$ "
      ],
      "metadata": {
        "id": "60WL1kCqGxps"
      }
    },
    {
      "cell_type": "code",
      "source": [
        "x = data[0].values\n",
        "print('mean = {:.3f}'.format(np.mean(x))) # среднее значение\n",
        "print('median = {:.3f}'.format(np.median(x))) # медиана\n",
        "print('std = {:.3f}'.format(np.std(x, ddof = 1))) # несмещенная оценка стандартного отклонения"
      ],
      "metadata": {
        "colab": {
          "base_uri": "https://localhost:8080/"
        },
        "id": "G03DtJujEitl",
        "outputId": "7f2e3aea-60ec-49a6-88f4-da758f42b601"
      },
      "execution_count": null,
      "outputs": [
        {
          "output_type": "stream",
          "name": "stdout",
          "text": [
            "mean = -1.429\n",
            "median = -1.000\n",
            "std = 143.807\n"
          ]
        }
      ]
    },
    {
      "cell_type": "code",
      "source": [
        "print('mode = {}'.format(st.mode(x))) # мода\n",
        "print('maximum_mode = {:.3f}'.format(data[0].mode().max())) # максимальная мода\n",
        "print('number_of_modes = {}'.format(len(data[0].mode()))) # количество мод"
      ],
      "metadata": {
        "colab": {
          "base_uri": "https://localhost:8080/"
        },
        "id": "ZPTa7UsjFrZh",
        "outputId": "f34de731-fdc9-4030-83c9-17be2768a322"
      },
      "execution_count": null,
      "outputs": [
        {
          "output_type": "stream",
          "name": "stdout",
          "text": [
            "mode = ModeResult(mode=array([-163.]), count=array([33]))\n",
            "maximum_mode = 80.000\n",
            "number_of_modes = 7\n"
          ]
        }
      ]
    },
    {
      "cell_type": "code",
      "source": [
        "k = int(input())\n",
        "print('stat_{} = {}'.format(k, np.partition(x, k)[k - 1])) # k-ая порядковая статистика"
      ],
      "metadata": {
        "colab": {
          "base_uri": "https://localhost:8080/"
        },
        "id": "f-2GqjCNGHSo",
        "outputId": "da2ade82-cd7e-4a94-ac24-7eda43477098"
      },
      "execution_count": null,
      "outputs": [
        {
          "output_type": "stream",
          "name": "stdout",
          "text": [
            "42\n",
            "stat_42 = -248.0\n"
          ]
        }
      ]
    },
    {
      "cell_type": "markdown",
      "source": [
        "$\\textbf{Тесты для проверки данных на нормальность. Если $p\\_value > 0.05$, то данные можно считать нормально распределёнными   ($p\\_value$ - второе значение в скобках)}$\n",
        "\n"
      ],
      "metadata": {
        "id": "KZQEHgd7HeMV"
      }
    },
    {
      "cell_type": "code",
      "source": [
        "print('Харке-Берра:', st.jarque_bera(x)) # тест Харке-Берра \n",
        "print('Шапиро-Уилка:', st.shapiro(x)) # тест Шапиро-Уилка \n",
        "print('Д\\'Агостино:', tuple(st.normaltest(x))) # ещё один тест (основа на тестах Д'Агостино и Пирсона)"
      ],
      "metadata": {
        "id": "NJLB-ephHelR",
        "colab": {
          "base_uri": "https://localhost:8080/"
        },
        "outputId": "0493b5dc-f157-46e9-8a7e-bbdf4c50460d"
      },
      "execution_count": null,
      "outputs": [
        {
          "output_type": "stream",
          "name": "stdout",
          "text": [
            "Харке-Берра: (0.764718512847885, 0.6822499065111163)\n",
            "Шапиро-Уилка: (0.9503185749053955, 0.37195128202438354)\n",
            "Д'Агостино: (0.7564689439811965, 0.6850698521408862)\n"
          ]
        }
      ]
    },
    {
      "cell_type": "markdown",
      "source": [
        "$\\Large\\textbf{Проверка парметрических гипотез}$"
      ],
      "metadata": {
        "id": "MEUGBa8_9H6l"
      }
    },
    {
      "cell_type": "code",
      "source": [
        "n, k = 55, 50 # число положительных и отрицательных исходов соответственно \n",
        "print(st.binom_test((n, k), p = 0.5, alternative = 'two-sided')) # биномиальный тест (H0: p_real = p, H1: p_real <!=> p)"
      ],
      "metadata": {
        "colab": {
          "base_uri": "https://localhost:8080/"
        },
        "id": "H1zE9UVmv6GC",
        "outputId": "69ebba9c-8256-4950-c419-13fae865dbdc"
      },
      "execution_count": null,
      "outputs": [
        {
          "output_type": "stream",
          "name": "stdout",
          "text": [
            "0.6964676629916754\n"
          ]
        }
      ]
    },
    {
      "cell_type": "code",
      "source": [
        "st.ttest_1samp(x, popmean = 0) # t-test для среднего одной выборки (H0: meam = popmean, H1: mean <!=> popmean)"
      ],
      "metadata": {
        "colab": {
          "base_uri": "https://localhost:8080/"
        },
        "id": "UHe8iLbUCDlD",
        "outputId": "240aade9-2198-49c8-c9fd-edc4b197f77f"
      },
      "execution_count": null,
      "outputs": [
        {
          "output_type": "execute_result",
          "data": {
            "text/plain": [
              "Ttest_1sampResult(statistic=-0.013237598130900889, pvalue=0.9895762465333544)"
            ]
          },
          "metadata": {},
          "execution_count": 15
        }
      ]
    },
    {
      "cell_type": "code",
      "source": [
        "st.ttest_1samp(x, popmean = 0) # Calculate the T-test for the mean of ONE group of scores.\n",
        "st.ttest_ind(a = x, b = x) # Calculate the T-test for the means of two independent samples of scores.\n",
        "st.ttest_ind_from_stats() # T-test for means of two independent samples from descriptive statistics.\n",
        "st.ttest_rel(a = x, b = x) # Calculate the t-test on TWO RELATED samples of scores, a and b."
      ],
      "metadata": {
        "id": "Afdwy3PLDuNJ"
      },
      "execution_count": null,
      "outputs": []
    },
    {
      "cell_type": "markdown",
      "source": [
        "$\\Large\\textbf{Проверка непараметрических гипотез}$\n"
      ],
      "metadata": {
        "id": "csRNDTmGznMq"
      }
    },
    {
      "cell_type": "code",
      "source": [
        "x = np.array([-0.10807709,  0.07356522, -0.739063  , -0.64162977,  0.1828638 ,\n",
        "         0.59814749,  0.92453191, -2.03833198, -0.17707878,  0.43352974,\n",
        "         1.33710666,  0.01993165, -0.6180032 , -0.81091398, -0.20807483,\n",
        "        -0.31187699, -0.18038264,  0.58779878,  1.11981533,  0.5101736 ])"
      ],
      "metadata": {
        "id": "Q8QWTcjq4OBX"
      },
      "execution_count": null,
      "outputs": []
    },
    {
      "cell_type": "code",
      "source": [
        "print(tuple(st.wilcoxon(x))) # одновыборочный критерий знаковых рангов Вилкоксона (проверяет гипотезу med(X) = m0 с альтернативой med(X) <!=> m0)\n",
        "print(sign_test(x, mu0=0.0)) # одновыборочный критерий знаков (проверяет гипотезу med(X) = m0 с альтернативой med(X) <!=> m0) med(X) - медиана\n",
        "print(one_sample(x-0.5, alternative ='two-sided')) # одновыборочный перестановочный критерий (проверяет гипотезу EX = m0 с альтернативой EX <!=> m0) EX - матожидание\n",
        "print(two_sample(x = x, y = x, alternative ='two-sided')) # двухвыборочный перестановочный критерий (проверяется гипотеза о равенстве средних EX = EY) !!!но это не точно"
      ],
      "metadata": {
        "colab": {
          "base_uri": "https://localhost:8080/"
        },
        "id": "jiudLKUY1VZQ",
        "outputId": "0873e938-4365-4226-8b04-3b36034c051b"
      },
      "execution_count": null,
      "outputs": [
        {
          "output_type": "stream",
          "name": "stdout",
          "text": [
            "(105.0, 1.0)\n",
            "(0.0, 1.0)\n",
            "(0.007639923600763992, -0.502298404)\n",
            "(0.997570024299757, 0.0)\n"
          ]
        }
      ]
    },
    {
      "cell_type": "code",
      "source": [
        "print('Критерий знаковых рангов Вилкоксона:\\nT = {}\\np-value = {}\\n'.format(*tuple(st.wilcoxon(x))))\n",
        "print('Одновыборочный критерий занков:\\nT = {}\\np-value = {}\\n'.format(*sign_test(x, mu0=0.0)))\n",
        "print('Одновыборочный перестановочный критерий:\\np-value = {}\\nT = {}\\n'.format(*one_sample(x-0.5, alternative ='two-sided')))\n",
        "print('Двухвыборочный перестановочный критерий:\\np-value = {}\\nT = {}\\n'.format(*two_sample(x = x, y = x, alternative ='two-sided')))"
      ],
      "metadata": {
        "colab": {
          "base_uri": "https://localhost:8080/"
        },
        "id": "PHJW1Oze43_1",
        "outputId": "07077639-9b64-444c-a862-b2ef1c6de98d"
      },
      "execution_count": null,
      "outputs": [
        {
          "output_type": "stream",
          "name": "stdout",
          "text": [
            "Критерий знаковых рангов Вилкоксона:\n",
            "T = 105.0\n",
            "p-value = 1.0\n",
            "\n",
            "Одновыборочный критерий занков:\n",
            "T = 0.0\n",
            "p-value = 1.0\n",
            "\n",
            "Одновыборочный перестановочный критерий:\n",
            "p-value = 0.007459925400745993\n",
            "T = -0.502298404\n",
            "\n",
            "Двухвыборочный перестановочный критерий:\n",
            "p-value = 0.997150028499715\n",
            "T = 0.0\n",
            "\n"
          ]
        }
      ]
    },
    {
      "cell_type": "code",
      "source": [
        "bs = IIDBootstrap(x) \n",
        "bound = list(map(lambda x: round(x[0], 2), bs.conf_int(np.mean, 10000, method='basic')))\n",
        "print('left_bound = {}\\nright_bound = {}'.format(*bound)) # левая и правая границы доверительного интервала для среднего выборки \n",
        "# IIDBootstrap(x).conf_int(np.mean, 10000, method='basic') - краткая запись"
      ],
      "metadata": {
        "colab": {
          "base_uri": "https://localhost:8080/"
        },
        "id": "ic-c-Jdx55_e",
        "outputId": "2a8a45b9-30da-4b37-82f7-f693f48e0fce"
      },
      "execution_count": null,
      "outputs": [
        {
          "output_type": "stream",
          "name": "stdout",
          "text": [
            "left_bound = -0.32\n",
            "right_bound = 0.33\n"
          ]
        }
      ]
    },
    {
      "cell_type": "code",
      "source": [
        "print(tuple(st.mannwhitneyu(x = x, y = x))) # критерий Манна-Уитни-Вилкоксона \n",
        "#(непараметрический тест с нулевой гипотезой о том, что распределение, лежащее в основе выборки x , совпадает с распределением, лежащим в основе выборки y)"
      ],
      "metadata": {
        "colab": {
          "base_uri": "https://localhost:8080/"
        },
        "id": "Mg-fd1r96j3q",
        "outputId": "78fb2bcc-758e-429b-fcf4-91857d5d4a70"
      },
      "execution_count": null,
      "outputs": [
        {
          "output_type": "stream",
          "name": "stdout",
          "text": [
            "(200.0, 1.0)\n"
          ]
        }
      ]
    },
    {
      "cell_type": "code",
      "source": [
        "print(tuple(st.ansari(x = x, y = x))) # критерий Ансари-Брэдли (проверяет гипотезу о равенстве дисперсий DX = DY, при этом выборки должны быть независимы и с равными медианами)"
      ],
      "metadata": {
        "colab": {
          "base_uri": "https://localhost:8080/"
        },
        "id": "f0K4fgQB7P4G",
        "outputId": "da8b71eb-e36a-4e47-c2eb-49981c286a39"
      },
      "execution_count": null,
      "outputs": [
        {
          "output_type": "stream",
          "name": "stdout",
          "text": [
            "(210.0, 1.0)\n"
          ]
        }
      ]
    },
    {
      "cell_type": "markdown",
      "source": [
        "$\\Large\\textbf{Множественное тестирование гипотез}$"
      ],
      "metadata": {
        "id": "EWGs2vJk_joz"
      }
    },
    {
      "cell_type": "code",
      "source": [
        "alpha, m, m0, n = 0.05, 50, 15, 20"
      ],
      "metadata": {
        "id": "glDi1IpnEYjl"
      },
      "execution_count": null,
      "outputs": []
    },
    {
      "cell_type": "markdown",
      "source": [
        "$\\textbf{График зависимости мощности для разных поправок}$"
      ],
      "metadata": {
        "id": "5z0vCv6uDMFV"
      }
    },
    {
      "cell_type": "code",
      "source": [
        "plt.figure(figsize = (14, 8))\n",
        "\n",
        "# Без поправок\n",
        "plt.plot([0, m - 1], [alpha] * 2, label='No correction')\n",
        "\n",
        "# Поправка Бонферрони\n",
        "bonferroni = alpha / m\n",
        "plt.plot([0, m - 1], [bonferroni] * 2, label='Bonferroni')\n",
        "\n",
        "# Поправка Холма\n",
        "holm = alpha / np.arange(m, 0, -1)\n",
        "plt.plot(holm, label='Holm')\n",
        "\n",
        "# Поправка Шидака\n",
        "sidak = 1 - np.power((1. - alpha),  1. / np.arange(m, 0, -1))\n",
        "plt.plot(sidak, label='Sidak', ls='--')\n",
        "\n",
        "# Поправка Бенджамини-Хохберга\n",
        "ecdffactor = np.arange(1, m + 1)/float(m)\n",
        "bh = alpha * ecdffactor\n",
        "plt.plot(range(m), bh, label='Benjamini-Hochberg' )\n",
        "\n",
        "# Поправка Бенджамини-Иекутиели \n",
        "cm = np.sum(1. / np.arange(1, m+1)) \n",
        "ecdffactor = ecdffactor / cm\n",
        "by = alpha * ecdffactor\n",
        "plt.plot(range(m), by, label='Benjamini-Yekutieli ' )\n",
        "\n",
        "plt.xlabel('i')\n",
        "plt.ylabel('$a_i$')\n",
        "plt.legend(loc='best')\n",
        "\n",
        "plt.show()"
      ],
      "metadata": {
        "colab": {
          "base_uri": "https://localhost:8080/",
          "height": 497
        },
        "id": "ROgDmu9KCdsu",
        "outputId": "47448d3d-d548-48f6-9ece-15f07b161d94"
      },
      "execution_count": null,
      "outputs": [
        {
          "output_type": "display_data",
          "data": {
            "image/png": "[encoded data removed]",
            "text/plain": [
              "<Figure size 1008x576 with 1 Axes>"
            ]
          },
          "metadata": {
            "needs_background": "light"
          }
        }
      ]
    },
    {
      "cell_type": "markdown",
      "source": [
        "$\\Large\\textbf{Пример}$\n"
      ],
      "metadata": {
        "id": "lo_R4S5aIaxX"
      }
    },
    {
      "cell_type": "code",
      "source": [
        "data  = np.array([[-0.78016423, -0.05794395, -1.56448117, -0.19131988,  0.35092962], # данные взяты из 4 домашки\n",
        "       [-0.07393965,  0.79302274, -2.86375015,  0.27323111,  0.60159556],\n",
        "       [ 0.66501952, -0.11157752, -1.44342137, -0.36060409, -0.04000901],\n",
        "       [-0.98396412, -0.3118918 , -0.23761939,  1.57012522,  0.67823942],\n",
        "       [-0.76280268, -1.82203434,  2.06406946,  0.91361085, -0.57504194],\n",
        "       [-0.75053382,  0.40691147,  0.94787637,  1.56196317,  1.62026852],\n",
        "       [-0.55076698, -0.06405085, -1.2380808 ,  0.27364983, -0.15901419],\n",
        "       [-0.09714098,  0.41562372, -1.65759994, -1.71844765, -1.99610138],\n",
        "       [-0.87537025, -0.9314073 , -0.42886738, -0.86843595, -0.57136779],\n",
        "       [-0.55149711, -0.65931456, -1.16515511,  0.84928689,  0.56550101],\n",
        "       [-1.34448672, -0.54235698, -2.21254583,  0.88555513,  0.0914802 ],\n",
        "       [ 0.1953067 , -0.40199438, -0.46697482,  1.25258596, -0.75670996],\n",
        "       [ 0.77207322, -0.85915118, -1.41268512,  0.47804466, -3.24227987],\n",
        "       [-0.2103062 ,  1.02705194,  0.06819997,  0.40975861,  1.90363223],\n",
        "       [ 0.05023571,  0.50441717,  0.35397455, -1.0760035 , -0.68646229],\n",
        "       [-0.45946823, -0.27288011,  0.2970795 ,  1.00553359, -0.06511064],\n",
        "       [-0.71895054,  0.96094817, -1.37950252,  0.44859303, -0.65436672],\n",
        "       [-0.67058597, -1.04513997,  0.17400058,  1.1279794 , -1.22462557],\n",
        "       [ 0.0359328 ,  0.03321613, -2.70320725, -0.37014808, -0.24865978],\n",
        "       [ 0.30678536, -0.70038021,  0.15882213,  1.72393382, -1.2176401 ],\n",
        "       [ 0.50068506,  1.26540511, -1.28250246,  1.13667595,  0.6441605 ],\n",
        "       [-0.88547642,  0.00436348, -1.87612401,  0.85230092,  2.30783348],\n",
        "       [-1.82049298,  1.07342269, -0.29852324,  0.52577144,  0.1041235 ],\n",
        "       [-1.49452239, -0.87820003, -1.35058167, -0.64794859,  2.56692216],\n",
        "       [-0.48523929,  0.10763517, -0.49475102, -0.78225748, -1.06875827],\n",
        "       [-0.12045912, -1.02002467,  0.26835721,  1.00946451,  1.59054726],\n",
        "       [-0.97764814, -0.94948381,  0.4020277 , -1.36742329,  0.41384625],\n",
        "       [ 0.4295789 ,  1.68527888,  0.19599163,  0.9512955 ,  2.07993258],\n",
        "       [ 0.09758205, -0.44581054, -1.0731338 ,  0.82083413, -1.31540366],\n",
        "       [ 0.28247416,  0.71278489, -1.43997431, -0.3105102 ,  0.7622867 ]])"
      ],
      "metadata": {
        "id": "bWVdflGiIhxz"
      },
      "execution_count": null,
      "outputs": []
    },
    {
      "cell_type": "code",
      "source": [
        "new_data = [data[:, i] for i in range(data.shape[1])]"
      ],
      "metadata": {
        "id": "8TY7pTZXI6re"
      },
      "execution_count": null,
      "outputs": []
    },
    {
      "cell_type": "code",
      "source": [
        "def test(data):\n",
        "    rejections, p_values = 0, []\n",
        "    for x, y in combinations(data, 2):\n",
        "        p_value = st.ttest_ind(x, y)[1]\n",
        "        p_values.append(p_value)\n",
        "        rejections += p_value <= 0.05\n",
        "    return rejections, p_values"
      ],
      "metadata": {
        "id": "aHorNgi5I6v4"
      },
      "execution_count": null,
      "outputs": []
    },
    {
      "cell_type": "code",
      "source": [
        "methods = ['bonferroni', 'holm', 'sidak', 'holm-sidak', 'fdr_bh', 'fdr_by']\n",
        "p_values = test(new_data)[1]\n",
        "for method in methods:\n",
        "\n",
        "  reject_array, p_vals_corr, *_ = multipletests(p_values, method = method)\n",
        "  print('Rejections with {} = {}\\n'.format(method, sum(reject_array)))\n",
        "  # print('p values corrected with {} = {}\\n'.format(method, p_vals_corr)) # печатает массив скорректированных p-value\n"
      ],
      "metadata": {
        "colab": {
          "base_uri": "https://localhost:8080/"
        },
        "id": "So_X8kf6I6yT",
        "outputId": "f8aed326-73bd-4c59-8f62-d561fcdcc3c3"
      },
      "execution_count": null,
      "outputs": [
        {
          "output_type": "stream",
          "name": "stdout",
          "text": [
            "Rejections with bonferroni = 2\n",
            "\n",
            "Rejections with holm = 2\n",
            "\n",
            "Rejections with sidak = 2\n",
            "\n",
            "Rejections with holm-sidak = 2\n",
            "\n",
            "Rejections with fdr_bh = 4\n",
            "\n",
            "Rejections with fdr_by = 2\n",
            "\n"
          ]
        }
      ]
    },
    {
      "cell_type": "markdown",
      "source": [
        "$\\Large\\textbf{Attention!!}$ \\\\\n",
        "$\\textbf{Здесь не проверялись условия применимости методов Бенджамини-Хохберга, Шидака и Холма-Шидака - просто приведён пример их использования}$"
      ],
      "metadata": {
        "id": "fyNOTYCsLC6z"
      }
    },
    {
      "cell_type": "markdown",
      "source": [
        "$\\textbf{Далее: $p\\_values - $ значения уровней значимости, полученные без применения поправок}$"
      ],
      "metadata": {
        "id": "rC6QF5RWEi1l"
      }
    },
    {
      "cell_type": "markdown",
      "source": [
        "$\\textbf{Поправка Бонферрнони. Нет ограничений на использование. Даёт минимальную мощность}$\n"
      ],
      "metadata": {
        "id": "q0crDK-WER7P"
      }
    },
    {
      "cell_type": "code",
      "source": [
        "p_holm = multipletests(p_values, method='bonferroni')[1]"
      ],
      "metadata": {
        "id": "H5-0wuVaMR7C"
      },
      "execution_count": null,
      "outputs": []
    },
    {
      "cell_type": "markdown",
      "source": [
        "$\\textbf{Метод Холма. Нет ограничений на использование. Обеспечивает бОльшую мощность, чем метод Бонферрони}$"
      ],
      "metadata": {
        "id": "85T_7JtBMp_d"
      }
    },
    {
      "cell_type": "code",
      "source": [
        "p_holm = multipletests(p_values, method='holm')[1]"
      ],
      "metadata": {
        "id": "2zTGgWmWIi61"
      },
      "execution_count": null,
      "outputs": []
    },
    {
      "cell_type": "markdown",
      "source": [
        "$\\textbf{Метод Шидака. Обеспечивает $FWER \\le \\alpha$ только если статистики $T_i$  независимые или выполнено условие: $P(T_1 \\le t_1,...,T_m \\le t_m) \\ge \\prod\\limits_{i = 1}^{m} P(T_i \\le t_i) \\;\\;\\; \\forall t_1,...,t_m $}$"
      ],
      "metadata": {
        "id": "rHfVC1NmP2br"
      }
    },
    {
      "cell_type": "code",
      "source": [
        "p_sidak = multipletests(p_values, method='Sidak')[1]"
      ],
      "metadata": {
        "id": "PzZJ0FQJP2Aj"
      },
      "execution_count": null,
      "outputs": []
    },
    {
      "cell_type": "markdown",
      "source": [
        "$\\textbf{Метод Шидака-Холма. Обеспечивает $FWER \\le \\alpha$ только если статистики $T_i$  независимые.}$"
      ],
      "metadata": {
        "id": "1tdJUBkaNOIV"
      }
    },
    {
      "cell_type": "code",
      "source": [
        "p_holm_sidak = multipletests(p_values, method='Holm-Sidak')[1]"
      ],
      "metadata": {
        "id": "py0rE8vpNNY_"
      },
      "execution_count": null,
      "outputs": []
    },
    {
      "cell_type": "markdown",
      "source": [
        "$\\textbf{Метод Бенджамини-Хохберга. Обеспечивает $FDR \\le \\alpha$ при условии, что статистики $T_i$ независимые или выполнено условие: $P(X \\in D|T_i = x)$ не убывает по $x \\; \\forall i \\in M_0$}$\n",
        "$\\textbf{$D$ - произвольное возрастающее множество. $M_0$ - индексы верных гипотез}$\n",
        "\n",
        "$\\textbf{Если X из нормального распределения, то метод можно использовать.}$\n",
        "\n",
        "$\\textbf{Метод обеспечивает наибольшую мощность.}$"
      ],
      "metadata": {
        "id": "G60NS4qGN7EZ"
      }
    },
    {
      "cell_type": "code",
      "source": [
        "p_bh = multipletests(p_values, method='fdr_bh')[1]"
      ],
      "metadata": {
        "id": "8gLZ-xuoGwzA"
      },
      "execution_count": null,
      "outputs": []
    },
    {
      "cell_type": "markdown",
      "source": [
        "$\\textbf{Метод Бенджамини-Иекутиели. Нет ограничений на использование.}$\n",
        "$\\textbf{Метод неулучшаем при отсутствии информации о зависимости между статистиками.}$"
      ],
      "metadata": {
        "id": "KDkBOmdmPbpF"
      }
    },
    {
      "cell_type": "code",
      "source": [
        "p_by = multipletests(p_values, method='fdr_by')[1]"
      ],
      "metadata": {
        "id": "x0hpw_uEL6L-"
      },
      "execution_count": null,
      "outputs": []
    }
  ]
}