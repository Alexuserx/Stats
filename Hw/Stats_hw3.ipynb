{
 "cells": [
  {
   "cell_type": "markdown",
   "metadata": {
    "id": "lT08ghEhrPCT"
   },
   "source": [
    "# Библиотеки"
   ]
  },
  {
   "cell_type": "code",
   "execution_count": 3,
   "metadata": {
    "id": "_xFkmTOrrPCU"
   },
   "outputs": [],
   "source": [
    "from zlib import crc32\n",
    "\n",
    "import numpy as np\n",
    "import pandas as pd\n",
    "import scipy.stats as st\n",
    "import itertools"
   ]
  },
  {
   "cell_type": "code",
   "execution_count": 4,
   "metadata": {
    "id": "S8Semddmp7E-"
   },
   "outputs": [],
   "source": [
    "# !pip install cryptorandom permute arch"
   ]
  },
  {
   "cell_type": "code",
   "execution_count": 5,
   "metadata": {
    "id": "T1sOU9VTJAaa"
   },
   "outputs": [],
   "source": [
    "# ! pip install permutation_test"
   ]
  },
  {
   "cell_type": "code",
   "execution_count": 6,
   "metadata": {
    "id": "9O6PP3KIp_fQ"
   },
   "outputs": [],
   "source": [
    "from statsmodels.stats.descriptivestats import sign_test\n",
    "from permute.core import one_sample\n",
    "from arch.bootstrap import IIDBootstrap\n",
    "\n",
    "from permutation_test import permutationtest"
   ]
  },
  {
   "cell_type": "markdown",
   "metadata": {
    "id": "-tjFv708rPCV"
   },
   "source": [
    "# Код генерации выборки"
   ]
  },
  {
   "cell_type": "code",
   "execution_count": 7,
   "metadata": {
    "id": "e9hppDm5rPCV"
   },
   "outputs": [],
   "source": [
    "import re\n",
    "EMAIL_REGEX = re.compile(r\"[^@]+@phystech.edu\")\n",
    "\n",
    "def generate_dataset(code):\n",
    "    rs = np.random.RandomState(code%(2**32-1))\n",
    "    ars = np.random.RandomState(code%(2**16-1))\n",
    "    if rs.randint(low=0, high=2) == 0:\n",
    "        while True:\n",
    "            data = rs.randn(20)\n",
    "            if st.shapiro(data)[1] > 0.2 or ars.binomial(100, 0.05) > 10:\n",
    "                break\n",
    "    else:\n",
    "        while True:\n",
    "            data = np.concatenate([rs.randn(6) - 2, rs.randn(6) + 2])\n",
    "            if st.shapiro(data)[1] < 0.01 or ars.binomial(100, 0.05) > 10:\n",
    "                break\n",
    "    return data"
   ]
  },
  {
   "cell_type": "markdown",
   "metadata": {
    "id": "vNCAbtwXrPCW"
   },
   "source": [
    "# Генерация выборки для вашей почты\n",
    "\n",
    "<span style=\"color:red\">\n",
    "    ВАЖНО!\n",
    "    Почта, которую укажете ниже и почта с которой Вы отправляете домашнее задание должна совпадать!\n",
    "    В момент проверки задания алгоритм генерирует выборку на основе почты из анкеты!\n",
    "</span>\n",
    "\n",
    "Внимательно проверьте почту для которой выполняется задание!"
   ]
  },
  {
   "cell_type": "code",
   "execution_count": 8,
   "metadata": {
    "colab": {
     "base_uri": "https://localhost:8080/"
    },
    "id": "wA_vycvjrPCW",
    "outputId": "cf084630-c6a3-481b-a864-aa6c5637317a"
   },
   "outputs": [
    {
     "name": "stdout",
     "output_type": "stream",
     "text": [
      "Enter your mail: yurchenko.aa@phystech.edu\n"
     ]
    },
    {
     "data": {
      "text/plain": [
       "{'mail': 'yurchenko.aa@phystech.edu',\n",
       " 'id': 1779776968,\n",
       " 'data': array([-0.10807709,  0.07356522, -0.739063  , -0.64162977,  0.1828638 ,\n",
       "         0.59814749,  0.92453191, -2.03833198, -0.17707878,  0.43352974,\n",
       "         1.33710666,  0.01993165, -0.6180032 , -0.81091398, -0.20807483,\n",
       "        -0.31187699, -0.18038264,  0.58779878,  1.11981533,  0.5101736 ])}"
      ]
     },
     "execution_count": 8,
     "metadata": {},
     "output_type": "execute_result"
    }
   ],
   "source": [
    "task = dict()\n",
    "task['mail'] = input(prompt='Enter your mail: ')\n",
    "assert EMAIL_REGEX.match(task['mail']), 'Not a mail in the phystech.edu domain'\n",
    "task['id'] = crc32(task['mail'].encode('utf-8'))\n",
    "task['data'] = generate_dataset(task['id'])\n",
    "\n",
    "task\n",
    "#  yurchenko.aa@phystech.edu"
   ]
  },
  {
   "cell_type": "markdown",
   "metadata": {
    "id": "WH9Cj6nFrPCX"
   },
   "source": [
    "# Работа с выборкой"
   ]
  },
  {
   "cell_type": "code",
   "execution_count": 10,
   "metadata": {
    "colab": {
     "base_uri": "https://localhost:8080/"
    },
    "id": "SJF85r94rPCX",
    "outputId": "c9b51614-3f03-486c-a26a-f0ea88cdc8ef"
   },
   "outputs": [
    {
     "name": "stdout",
     "output_type": "stream",
     "text": [
      "(20,)\n"
     ]
    }
   ],
   "source": [
    "data = task['data']\n",
    "print(data.shape)"
   ]
  },
  {
   "cell_type": "code",
   "execution_count": 12,
   "metadata": {
    "colab": {
     "base_uri": "https://localhost:8080/",
     "height": 295
    },
    "id": "o-sVd5LCqTcg",
    "outputId": "44214416-340f-4a2b-8d49-b252871f1910"
   },
   "outputs": [
    {
     "data": {
      "image/png": "[encoded data removed]",
      "text/plain": [
       "<Figure size 432x288 with 1 Axes>"
      ]
     },
     "metadata": {
      "needs_background": "light"
     },
     "output_type": "display_data"
    }
   ],
   "source": [
    "import pylab\n",
    "st.probplot(data, dist=\"norm\", plot=pylab)\n",
    "pylab.show()"
   ]
  },
  {
   "cell_type": "code",
   "execution_count": 14,
   "metadata": {
    "colab": {
     "base_uri": "https://localhost:8080/",
     "height": 369
    },
    "id": "YBonke0iqTwk",
    "outputId": "e35c1447-7b9c-408a-cf41-ac1d081153b0"
   },
   "outputs": [
    {
     "data": {
      "image/png": "[encoded data removed]",
      "text/plain": [
       "<Figure size 360x360 with 1 Axes>"
      ]
     },
     "metadata": {
      "needs_background": "light"
     },
     "output_type": "display_data"
    }
   ],
   "source": [
    "import seaborn as sns\n",
    "_ = sns.displot(data)"
   ]
  },
  {
   "cell_type": "code",
   "execution_count": 15,
   "metadata": {
    "colab": {
     "base_uri": "https://localhost:8080/"
    },
    "id": "y0BCwDKOwIsC",
    "outputId": "2c6d29c3-4698-4462-fd7b-91fe607a4457"
   },
   "outputs": [
    {
     "name": "stdout",
     "output_type": "stream",
     "text": [
      "p_value = 0.5782486200332642\n"
     ]
    }
   ],
   "source": [
    "print('p_value = {}'.format(st.shapiro(data)[1]))"
   ]
  },
  {
   "cell_type": "markdown",
   "metadata": {
    "id": "oRNl_RpFKNEp"
   },
   "source": [
    "$p \\_ value > 0.05 ⇒ $ не отклоняем гипотезу о нормальности, можно применять критерий Стьюдента"
   ]
  },
  {
   "cell_type": "code",
   "execution_count": 16,
   "metadata": {
    "colab": {
     "base_uri": "https://localhost:8080/"
    },
    "id": "2n9_ay-iw-Vx",
    "outputId": "a29df829-4afb-4cd3-dc1f-2d55b75455e9"
   },
   "outputs": [
    {
     "data": {
      "text/plain": [
       "NormaltestResult(statistic=3.0467386856686964, pvalue=0.21797621169018938)"
      ]
     },
     "execution_count": 16,
     "metadata": {},
     "output_type": "execute_result"
    }
   ],
   "source": [
    "st.normaltest(data) # альтернативный вариант проверки на нормальность"
   ]
  },
  {
   "cell_type": "code",
   "execution_count": 17,
   "metadata": {
    "colab": {
     "base_uri": "https://localhost:8080/"
    },
    "id": "SRLh1z5KqT4k",
    "outputId": "7de4ce39-2513-41e7-b1f8-d801b4e97375"
   },
   "outputs": [
    {
     "data": {
      "text/plain": [
       "WilcoxonResult(statistic=105.0, pvalue=1.0)"
      ]
     },
     "execution_count": 17,
     "metadata": {},
     "output_type": "execute_result"
    }
   ],
   "source": [
    "st.wilcoxon(data) # критерий знаковых рангов Уилкоксона"
   ]
  },
  {
   "cell_type": "code",
   "execution_count": 18,
   "metadata": {},
   "outputs": [
    {
     "data": {
      "text/plain": [
       "Ttest_1sampResult(statistic=-0.013237594346488293, pvalue=0.9895762495131517)"
      ]
     },
     "execution_count": 18,
     "metadata": {},
     "output_type": "execute_result"
    }
   ],
   "source": [
    "st.ttest_1samp(data, 0) "
   ]
  },
  {
   "cell_type": "code",
   "execution_count": 19,
   "metadata": {
    "colab": {
     "base_uri": "https://localhost:8080/"
    },
    "id": "VdCHBLHKwRzl",
    "outputId": "6a243b2b-e861-4040-f8e2-d02d3cd86ed5"
   },
   "outputs": [
    {
     "data": {
      "text/plain": [
       "(0.0, 1.0)"
      ]
     },
     "execution_count": 19,
     "metadata": {},
     "output_type": "execute_result"
    }
   ],
   "source": [
    "from statsmodels.stats.descriptivestats import sign_test\n",
    "sign_test(data, mu0=0.0) # критерий знаков"
   ]
  },
  {
   "cell_type": "code",
   "execution_count": 21,
   "metadata": {
    "colab": {
     "base_uri": "https://localhost:8080/"
    },
    "id": "Ge3hI_IByCcF",
    "outputId": "07ab5ed2-de7b-404b-f701-98cffe63653e"
   },
   "outputs": [
    {
     "data": {
      "text/plain": [
       "1048576"
      ]
     },
     "execution_count": 21,
     "metadata": {},
     "output_type": "execute_result"
    }
   ],
   "source": [
    "n = 2**data.shape[0] # число перестановок\n",
    "n"
   ]
  },
  {
   "cell_type": "code",
   "execution_count": 22,
   "metadata": {
    "colab": {
     "base_uri": "https://localhost:8080/"
    },
    "id": "CU7q8ylz0cYV",
    "outputId": "7c90e6a9-8da1-4210-9571-db5badbb1cd0"
   },
   "outputs": [
    {
     "name": "stdout",
     "output_type": "stream",
     "text": [
      "good_count = 1040708\n"
     ]
    }
   ],
   "source": [
    "t = (data - 0.5)\n",
    "T = np.sum(t)\n",
    "count = 0\n",
    "good = 0\n",
    "for v in itertools.product([-1, 1], repeat=data.shape[0]):\n",
    "    count += 1\n",
    "    stat = np.dot(t, v)\n",
    "    if abs(stat) <= abs(T):\n",
    "        good += 1\n",
    "    \n",
    "      \n",
    "print('good_count =', good) # количество перестановок, когда статистика имеет значение меньшее или равное статистике для оригинальной выборки"
   ]
  },
  {
   "cell_type": "code",
   "execution_count": 23,
   "metadata": {
    "colab": {
     "base_uri": "https://localhost:8080/"
    },
    "id": "X7bbtLW2iKbo",
    "outputId": "2702749e-20f4-41cb-cf15-27b227e86908"
   },
   "outputs": [
    {
     "name": "stdout",
     "output_type": "stream",
     "text": [
      "good_count = 3935\n"
     ]
    }
   ],
   "source": [
    "t = (data - 0.5)\n",
    "T = np.sum(t)\n",
    "count = 0\n",
    "good = 0\n",
    "for v in itertools.product([-1, 1], repeat=data.shape[0]):\n",
    "    count += 1\n",
    "    stat = np.dot(t, v)\n",
    "    if stat <= T:\n",
    "        good += 1\n",
    "    \n",
    "      \n",
    "print('good_count =', good)"
   ]
  },
  {
   "cell_type": "code",
   "execution_count": 25,
   "metadata": {
    "colab": {
     "base_uri": "https://localhost:8080/"
    },
    "id": "UWWp_amH0_8y",
    "outputId": "4f1113fe-ec1a-4cbc-dcce-0d8c6896259e"
   },
   "outputs": [
    {
     "name": "stdout",
     "output_type": "stream",
     "text": [
      "left_bound = -0.33\n",
      "right_bound = 0.35\n"
     ]
    }
   ],
   "source": [
    "bs = IIDBootstrap(data) \n",
    "bound = list(map(lambda x: round(x[0], 2), bs.conf_int(np.mean, 10000, method='basic')))\n",
    "print('left_bound = {}\\nright_bound = {}'.format(*bound)) # левая и правая границы доверительного интервала для среднего выборки "
   ]
  },
  {
   "cell_type": "code",
   "execution_count": 26,
   "metadata": {
    "colab": {
     "base_uri": "https://localhost:8080/"
    },
    "id": "3PpeZ85f6HRI",
    "outputId": "f6b5f5fa-faa7-4607-db47-76e1845f78ef"
   },
   "outputs": [
    {
     "data": {
      "text/plain": [
       "array([-0.34349848,  0.32343861])"
      ]
     },
     "execution_count": 26,
     "metadata": {},
     "output_type": "execute_result"
    }
   ],
   "source": [
    "rs = np.random.RandomState(0) # бутстреп вручную\n",
    "\n",
    "idx = rs.randint(low=0, high=data.shape[0], size=(10000, data.shape[0]))\n",
    "results = []\n",
    "for i in idx:\n",
    "    sample = data[i]\n",
    "    results.append(sample.mean())\n",
    "\n",
    "np.percentile(results, [2.5, 97.5])"
   ]
  },
  {
   "cell_type": "code",
   "execution_count": null,
   "metadata": {
    "colab": {
     "base_uri": "https://localhost:8080/"
    },
    "id": "1mrTNRr7RAIh",
    "outputId": "74e5ce88-0ace-4e88-b5f3-fdf7c1b60595"
   },
   "outputs": [],
   "source": [
    "(1 - one_sample(data-0.5, alternative ='two-sided')[0]) * 1048576"
   ]
  },
  {
   "cell_type": "code",
   "execution_count": null,
   "metadata": {
    "colab": {
     "base_uri": "https://localhost:8080/"
    },
    "id": "Vjp9fCRRK1Ar",
    "outputId": "77aa8a71-59e2-42ec-9fa2-701dab00f1cd"
   },
   "outputs": [],
   "source": [
    "(1 - one_sample(data-0.5, alternative ='two-sided')[0]) * n"
   ]
  },
  {
   "cell_type": "code",
   "execution_count": null,
   "metadata": {
    "colab": {
     "base_uri": "https://localhost:8080/"
    },
    "id": "qBfkzvIhK4_W",
    "outputId": "d3f69024-e6c2-4093-b912-b2fbb4e97abc"
   },
   "outputs": [],
   "source": [
    "(1 - one_sample(data, 0.5*np.ones_like(data), alternative='two-sided')[0]) * n"
   ]
  },
  {
   "cell_type": "code",
   "execution_count": null,
   "metadata": {
    "id": "-udxs4aiMVKh"
   },
   "outputs": [],
   "source": [
    "n_hand = 1040708"
   ]
  }
 ],
 "metadata": {
  "colab": {
   "collapsed_sections": [],
   "name": "stats_hw3.ipynb",
   "provenance": []
  },
  "kernelspec": {
   "display_name": "Python 3 (ipykernel)",
   "language": "python",
   "name": "python3"
  },
  "language_info": {
   "codemirror_mode": {
    "name": "ipython",
    "version": 3
   },
   "file_extension": ".py",
   "mimetype": "text/x-python",
   "name": "python",
   "nbconvert_exporter": "python",
   "pygments_lexer": "ipython3",
   "version": "3.9.7"
  }
 },
 "nbformat": 4,
 "nbformat_minor": 1
}
