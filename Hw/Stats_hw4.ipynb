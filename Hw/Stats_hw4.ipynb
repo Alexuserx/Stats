{
 "cells": [
  {
   "cell_type": "code",
   "execution_count": 13,
   "metadata": {
    "colab": {
     "base_uri": "https://localhost:8080/"
    },
    "id": "UpvkmS38E2sd",
    "outputId": "9b896bf6-a1f1-4faa-f2db-980d1ebd8cda"
   },
   "outputs": [],
   "source": [
    "from zlib import crc32\n",
    "\n",
    "import numpy as np\n",
    "import pandas as pd\n",
    "import seaborn as sns\n",
    "import scipy.stats as st\n",
    "from itertools import combinations\n",
    "import matplotlib.pyplot as plt\n",
    "\n",
    "from  statsmodels.stats.weightstats import ttest_ind\n",
    "\n",
    "from statsmodels.stats.multitest import multipletests"
   ]
  },
  {
   "cell_type": "code",
   "execution_count": 2,
   "metadata": {
    "id": "4CoHUTybErKt"
   },
   "outputs": [],
   "source": [
    "import re\n",
    "EMAIL_REGEX = re.compile(r\"[^@]+@phystech.edu\")\n",
    "\n",
    "def generate_dataset(code):\n",
    "    rs = np.random.RandomState(code)\n",
    "    size = rs.randint(low=5, high=10)\n",
    "    data = rs.randn(30, size)\n",
    "    for i in range(size):\n",
    "        data[:, i] += rs.uniform()*2-1.0\n",
    "    return data"
   ]
  },
  {
   "cell_type": "code",
   "execution_count": 3,
   "metadata": {
    "colab": {
     "base_uri": "https://localhost:8080/"
    },
    "id": "484dV6tRFgn0",
    "outputId": "32fa361c-0a46-4576-ce95-25ee8bd8ef21"
   },
   "outputs": [
    {
     "name": "stdout",
     "output_type": "stream",
     "text": [
      "Enter your mail: yurchenko.aa@phystech.edu\n"
     ]
    }
   ],
   "source": [
    "task = dict()\n",
    "task['mail'] = input(prompt='Enter your mail: ')\n",
    "assert EMAIL_REGEX.match(task['mail']), 'Not a mail in the phystech.edu domain'\n",
    "task['id'] = crc32(task['mail'].encode('utf-8'))\n",
    "task['data'] = generate_dataset(task['id'])\n",
    "\n",
    "# yurchenko.aa@phystech.edu"
   ]
  },
  {
   "cell_type": "code",
   "execution_count": 4,
   "metadata": {
    "id": "ZOZehytPJuxu"
   },
   "outputs": [],
   "source": [
    "data = task['data']"
   ]
  },
  {
   "cell_type": "code",
   "execution_count": 5,
   "metadata": {
    "id": "jiRZPccsIj8x"
   },
   "outputs": [],
   "source": [
    "# new_data = [data[:, i] for i in range(data.shape[1])] # представляем данные в более удобной форме для дальнейшей обработки\n",
    "new_data = data.T"
   ]
  },
  {
   "cell_type": "code",
   "execution_count": 6,
   "metadata": {
    "id": "pL-3ijP-aFfr"
   },
   "outputs": [],
   "source": [
    "def test(data):\n",
    "    rejections, p_values = 0, []\n",
    "    for x, y in combinations(data, 2):\n",
    "        p_value = st.ttest_ind(x, y)[1]\n",
    "        p_values.append(p_value)\n",
    "        rejections += p_value <= 0.05\n",
    "    return rejections, p_values"
   ]
  },
  {
   "cell_type": "markdown",
   "metadata": {
    "id": "Iflro0tg2SRY"
   },
   "source": [
    "$\\textbf{Для какого количества пар из столбцов отвергается гипотеза о совпадении среднего?}$"
   ]
  },
  {
   "cell_type": "code",
   "execution_count": 7,
   "metadata": {
    "colab": {
     "base_uri": "https://localhost:8080/"
    },
    "id": "CR4fcI-NaFiJ",
    "outputId": "e1a618f7-4f60-4669-f87f-e730e9e6b77b"
   },
   "outputs": [
    {
     "name": "stdout",
     "output_type": "stream",
     "text": [
      "Rejections = 4\n"
     ]
    }
   ],
   "source": [
    "print('Rejections =', test(new_data)[0])"
   ]
  },
  {
   "cell_type": "markdown",
   "metadata": {
    "id": "CUn0lxgW2Zoo"
   },
   "source": [
    "$\\textbf{Значение уровня значимости при использовании поправки Бонферрони $(\\alpha=0.05)$}$\n"
   ]
  },
  {
   "cell_type": "code",
   "execution_count": 8,
   "metadata": {
    "colab": {
     "base_uri": "https://localhost:8080/"
    },
    "id": "1oT7u08RaFmu",
    "outputId": "95589ee5-702f-4322-f526-0538f24e957a"
   },
   "outputs": [
    {
     "name": "stdout",
     "output_type": "stream",
     "text": [
      "P_value_with_Bonferroni = 0.005\n"
     ]
    }
   ],
   "source": [
    "print('P_value_with_Bonferroni = {:.3f}'.format(multipletests(test(new_data)[1], method='bonferroni')[-1])) "
   ]
  },
  {
   "cell_type": "markdown",
   "metadata": {
    "id": "fwHnlUoG2si0"
   },
   "source": [
    "$\\textbf{Для какого количества пар из столбцов отвергается гипотеза о совпадении среднего при использовании поправки Бонферрони?}$"
   ]
  },
  {
   "cell_type": "code",
   "execution_count": 9,
   "metadata": {
    "colab": {
     "base_uri": "https://localhost:8080/"
    },
    "id": "V-I7SqxSaFpG",
    "outputId": "1cef5e04-e458-4f28-a7bd-e9b37d53ba12"
   },
   "outputs": [
    {
     "name": "stdout",
     "output_type": "stream",
     "text": [
      "Rejections_with_Bonferroni = 2\n"
     ]
    }
   ],
   "source": [
    "print('Rejections_with_Bonferroni =', multipletests(test(new_data)[1], method='bonferroni')[0].sum())"
   ]
  },
  {
   "cell_type": "markdown",
   "metadata": {
    "id": "4PUzz2_r206H"
   },
   "source": [
    "$\\textbf{Для какого количества пар из столбцов отвергается гипотеза о совпадении среднего при использовании метода Холма?}$"
   ]
  },
  {
   "cell_type": "code",
   "execution_count": 10,
   "metadata": {
    "colab": {
     "base_uri": "https://localhost:8080/"
    },
    "id": "xC1ZLSlcbAAV",
    "outputId": "0e710ecc-3f7e-4de2-8c06-4924eac09abf"
   },
   "outputs": [
    {
     "name": "stdout",
     "output_type": "stream",
     "text": [
      "Rejections_with_Holm = 2\n"
     ]
    }
   ],
   "source": [
    "print('Rejections_with_Holm =', multipletests(test(new_data)[1], method='holm')[0].sum())"
   ]
  },
  {
   "cell_type": "markdown",
   "metadata": {
    "id": "d_9_VsiT29wF"
   },
   "source": [
    "$\\textbf{Оценка $m_0$ по методу Шведера-Спьётволла $(\\lambda = 0.5)$}$"
   ]
  },
  {
   "cell_type": "code",
   "execution_count": 11,
   "metadata": {
    "colab": {
     "base_uri": "https://localhost:8080/"
    },
    "id": "nW_ETYgnaFrJ",
    "outputId": "b1eb1099-dbf1-4779-c51f-08d575293fc6"
   },
   "outputs": [
    {
     "name": "stdout",
     "output_type": "stream",
     "text": [
      "m0 = 4.000\n"
     ]
    }
   ],
   "source": [
    "lambd = 0.5\n",
    "print('m0 = {:.3f}'.format((sum([1 for x in test(new_data)[1] if x > lambd]) + 1) / (1 - lambd)))"
   ]
  },
  {
   "cell_type": "markdown",
   "metadata": {
    "id": "wLinF0N3KDpN"
   },
   "source": [
    "$\\textbf{Не относится к заданию}$"
   ]
  },
  {
   "cell_type": "code",
   "execution_count": 15,
   "metadata": {
    "colab": {
     "base_uri": "https://localhost:8080/",
     "height": 374
    },
    "id": "w91DYjV6ILMX",
    "outputId": "405c93bb-220d-40db-b16a-08ea88acc4ad"
   },
   "outputs": [
    {
     "data": {
      "image/png": "[encoded data removed]",
      "text/plain": [
       "<Figure size 360x360 with 1 Axes>"
      ]
     },
     "metadata": {
      "needs_background": "light"
     },
     "output_type": "display_data"
    }
   ],
   "source": [
    "_ = sns.displot(data.flatten())"
   ]
  },
  {
   "cell_type": "code",
   "execution_count": 30,
   "metadata": {
    "colab": {
     "base_uri": "https://localhost:8080/"
    },
    "id": "AoaFL4o1IkFn",
    "outputId": "8d4118cf-d6bc-49a9-e4be-fe4fa3d60e17"
   },
   "outputs": [
    {
     "data": {
      "text/plain": [
       "(3,\n",
       " [0.712541401386261,\n",
       "  0.030772870406508446,\n",
       "  0.6363730430603027,\n",
       "  0.7414813041687012,\n",
       "  0.790755569934845,\n",
       "  0.4053451120853424,\n",
       "  0.6840804815292358,\n",
       "  0.15315952897071838,\n",
       "  0.1770087480545044,\n",
       "  0.4368809461593628,\n",
       "  0.9831113815307617,\n",
       "  0.2906413972377777,\n",
       "  0.6347814202308655,\n",
       "  0.6642791628837585,\n",
       "  0.45610031485557556,\n",
       "  0.5485439300537109,\n",
       "  0.6284328103065491,\n",
       "  0.4472523331642151,\n",
       "  0.006170458626002073,\n",
       "  0.786097526550293,\n",
       "  0.10955099016427994,\n",
       "  0.9862751364707947,\n",
       "  0.6434678435325623,\n",
       "  0.0218658410012722,\n",
       "  0.7751399278640747,\n",
       "  0.9736829400062561,\n",
       "  0.10242880135774612,\n",
       "  0.6313533782958984,\n",
       "  0.7837767601013184,\n",
       "  0.2936835289001465])"
      ]
     },
     "execution_count": 30,
     "metadata": {},
     "output_type": "execute_result"
    }
   ],
   "source": [
    "l = 0\n",
    "p_values = []\n",
    "for x in data:\n",
    "  p_value = st.shapiro(x)[1]\n",
    "  p_values.append(p_value)\n",
    "  l += (p_value < 0.05)\n",
    "l, p_values   "
   ]
  }
 ],
 "metadata": {
  "colab": {
   "collapsed_sections": [],
   "name": "Stats_hw4.ipynb",
   "provenance": []
  },
  "kernelspec": {
   "display_name": "Python 3 (ipykernel)",
   "language": "python",
   "name": "python3"
  },
  "language_info": {
   "codemirror_mode": {
    "name": "ipython",
    "version": 3
   },
   "file_extension": ".py",
   "mimetype": "text/x-python",
   "name": "python",
   "nbconvert_exporter": "python",
   "pygments_lexer": "ipython3",
   "version": "3.9.7"
  }
 },
 "nbformat": 4,
 "nbformat_minor": 1
}
