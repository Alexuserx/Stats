{
 "cells": [
  {
   "cell_type": "markdown",
   "metadata": {
    "id": "SWpzzBKX5lab"
   },
   "source": [
    "# Библиотеки"
   ]
  },
  {
   "cell_type": "code",
   "execution_count": 1,
   "metadata": {
    "id": "DVElVx3w5lag"
   },
   "outputs": [],
   "source": [
    "from zlib import crc32\n",
    "import matplotlib.pyplot as plt\n",
    "import numpy as np\n",
    "import pandas as pd\n",
    "import seaborn as sns\n",
    "import scipy.stats as st\n",
    "\n",
    "import statsmodels.api as sm\n",
    "\n",
    "from statsmodels.formula.api import ols\n",
    "\n",
    "from statsmodels.stats.multicomp import pairwise_tukeyhsd\n",
    "from statsmodels.stats.multicomp import MultiComparison\n",
    "\n",
    "from statsmodels.stats.weightstats  import ttest_ind"
   ]
  },
  {
   "cell_type": "markdown",
   "metadata": {
    "id": "W10bESh65lah"
   },
   "source": [
    "# Код генерации выборки"
   ]
  },
  {
   "cell_type": "code",
   "execution_count": 2,
   "metadata": {
    "id": "-dRusc3I5lai"
   },
   "outputs": [],
   "source": [
    "import re\n",
    "EMAIL_REGEX = re.compile(r\"[^@]+@phystech.edu\")\n",
    "\n",
    "def generate_dataset(code):\n",
    "    rs = np.random.RandomState(code)\n",
    "    tip = rs.randint(low = 0, high = 4)\n",
    "    C1 = rs.choice([1, 5], size = 1000)\n",
    "    C2 = rs.choice([2, 4], size = 1000)\n",
    "    if tip == 0 :\n",
    "        data = rs.randn(1000)\n",
    "    if tip == 1:\n",
    "        data = []\n",
    "        for c1,c2 in zip(C1, C2):\n",
    "            if c1 == 1:\n",
    "                data.append(rs.randn(1) + 1)\n",
    "            if c1 == 5:\n",
    "                data.append(rs.randn(1) - 1)\n",
    "        data = np.array(data)\n",
    "    if tip == 2:\n",
    "        data = []\n",
    "        for c1,c2 in zip(C1, C2):\n",
    "            if c1==1:\n",
    "                c1 = 0\n",
    "            else:\n",
    "                c1= 1\n",
    "            if c2 ==2:\n",
    "                c2 = 0\n",
    "            else:\n",
    "                c2 = 1\n",
    "            data.append(rs.randn(1) + c1 + c2)    \n",
    "    if tip == 3:# on c1, c2\n",
    "        data = []\n",
    "        for c1,c2 in zip(C1,C2):\n",
    "            if c1==1:\n",
    "                c1 = 0\n",
    "            else:\n",
    "                c1= 1\n",
    "            if c2 ==2:\n",
    "                c2 = 0\n",
    "            else:\n",
    "                c2 = 1\n",
    "            data.append(rs.randn(1) + c1 + c2 + 5*c1*c2)   \n",
    "        data = np.array(data)\n",
    "    return np.hstack([np.array(data).reshape(1000, 1), C1.reshape(1000, 1), C2.reshape(1000, 1)])"
   ]
  },
  {
   "cell_type": "markdown",
   "metadata": {
    "id": "LXkXPYIz5laj"
   },
   "source": [
    "# Генерация выборки для вашей почты\n",
    "\n",
    "<span style=\"color:red\">\n",
    "    ВАЖНО!\n",
    "    Почта, которую укажете ниже и почта с которой Вы отправляете домашнее задание должна совпадать!\n",
    "    В момент проверки задания алгоритм генерирует выборку на основе почты из анкеты!\n",
    "</span>\n",
    "\n",
    "Внимательно проверьте почту для которой выполняется задание!"
   ]
  },
  {
   "cell_type": "code",
   "execution_count": 3,
   "metadata": {
    "id": "h8bMsPHy5laj"
   },
   "outputs": [
    {
     "name": "stdout",
     "output_type": "stream",
     "text": [
      "Enter your mail: yurchenko.aa@phystech.edu\n"
     ]
    },
    {
     "data": {
      "text/plain": [
       "{'mail': 'yurchenko.aa@phystech.edu',\n",
       " 'id': 1779776968,\n",
       " 'data': array([[ 1.22145285,  1.        ,  4.        ],\n",
       "        [-1.50261326,  1.        ,  4.        ],\n",
       "        [ 0.50620007,  5.        ,  4.        ],\n",
       "        ...,\n",
       "        [-1.81828598,  5.        ,  2.        ],\n",
       "        [ 3.89344751,  5.        ,  2.        ],\n",
       "        [-0.02395768,  5.        ,  4.        ]])}"
      ]
     },
     "execution_count": 3,
     "metadata": {},
     "output_type": "execute_result"
    }
   ],
   "source": [
    "task = dict()\n",
    "task['mail'] = input(prompt='Enter your mail: ')\n",
    "assert EMAIL_REGEX.match(task['mail']), 'Not a mail in the phystech.edu domain'\n",
    "task['id'] = crc32(task['mail'].encode('utf-8'))\n",
    "task['data'] = generate_dataset(task['id'])\n",
    "\n",
    "task #yurchenko.aa@phystech.edu"
   ]
  },
  {
   "cell_type": "markdown",
   "metadata": {
    "id": "WprDKyMv5lak"
   },
   "source": [
    "# Работа с выборкой"
   ]
  },
  {
   "cell_type": "code",
   "execution_count": 4,
   "metadata": {
    "id": "ZHQaq3RJ5lal"
   },
   "outputs": [],
   "source": [
    "data = task['data']"
   ]
  },
  {
   "cell_type": "code",
   "execution_count": 5,
   "metadata": {
    "id": "y3U23VKk5lal"
   },
   "outputs": [
    {
     "data": {
      "text/html": [
       "<div>\n",
       "<style scoped>\n",
       "    .dataframe tbody tr th:only-of-type {\n",
       "        vertical-align: middle;\n",
       "    }\n",
       "\n",
       "    .dataframe tbody tr th {\n",
       "        vertical-align: top;\n",
       "    }\n",
       "\n",
       "    .dataframe thead th {\n",
       "        text-align: right;\n",
       "    }\n",
       "</style>\n",
       "<table border=\"1\" class=\"dataframe\">\n",
       "  <thead>\n",
       "    <tr style=\"text-align: right;\">\n",
       "      <th></th>\n",
       "      <th>f</th>\n",
       "      <th>c_1</th>\n",
       "      <th>c_2</th>\n",
       "    </tr>\n",
       "  </thead>\n",
       "  <tbody>\n",
       "    <tr>\n",
       "      <th>0</th>\n",
       "      <td>1.221453</td>\n",
       "      <td>1.0</td>\n",
       "      <td>4.0</td>\n",
       "    </tr>\n",
       "    <tr>\n",
       "      <th>1</th>\n",
       "      <td>-1.502613</td>\n",
       "      <td>1.0</td>\n",
       "      <td>4.0</td>\n",
       "    </tr>\n",
       "    <tr>\n",
       "      <th>2</th>\n",
       "      <td>0.506200</td>\n",
       "      <td>5.0</td>\n",
       "      <td>4.0</td>\n",
       "    </tr>\n",
       "    <tr>\n",
       "      <th>3</th>\n",
       "      <td>0.781454</td>\n",
       "      <td>5.0</td>\n",
       "      <td>2.0</td>\n",
       "    </tr>\n",
       "    <tr>\n",
       "      <th>4</th>\n",
       "      <td>1.454763</td>\n",
       "      <td>1.0</td>\n",
       "      <td>4.0</td>\n",
       "    </tr>\n",
       "    <tr>\n",
       "      <th>...</th>\n",
       "      <td>...</td>\n",
       "      <td>...</td>\n",
       "      <td>...</td>\n",
       "    </tr>\n",
       "    <tr>\n",
       "      <th>995</th>\n",
       "      <td>0.710127</td>\n",
       "      <td>1.0</td>\n",
       "      <td>2.0</td>\n",
       "    </tr>\n",
       "    <tr>\n",
       "      <th>996</th>\n",
       "      <td>0.954466</td>\n",
       "      <td>1.0</td>\n",
       "      <td>4.0</td>\n",
       "    </tr>\n",
       "    <tr>\n",
       "      <th>997</th>\n",
       "      <td>-1.818286</td>\n",
       "      <td>5.0</td>\n",
       "      <td>2.0</td>\n",
       "    </tr>\n",
       "    <tr>\n",
       "      <th>998</th>\n",
       "      <td>3.893448</td>\n",
       "      <td>5.0</td>\n",
       "      <td>2.0</td>\n",
       "    </tr>\n",
       "    <tr>\n",
       "      <th>999</th>\n",
       "      <td>-0.023958</td>\n",
       "      <td>5.0</td>\n",
       "      <td>4.0</td>\n",
       "    </tr>\n",
       "  </tbody>\n",
       "</table>\n",
       "<p>1000 rows × 3 columns</p>\n",
       "</div>"
      ],
      "text/plain": [
       "            f  c_1  c_2\n",
       "0    1.221453  1.0  4.0\n",
       "1   -1.502613  1.0  4.0\n",
       "2    0.506200  5.0  4.0\n",
       "3    0.781454  5.0  2.0\n",
       "4    1.454763  1.0  4.0\n",
       "..        ...  ...  ...\n",
       "995  0.710127  1.0  2.0\n",
       "996  0.954466  1.0  4.0\n",
       "997 -1.818286  5.0  2.0\n",
       "998  3.893448  5.0  2.0\n",
       "999 -0.023958  5.0  4.0\n",
       "\n",
       "[1000 rows x 3 columns]"
      ]
     },
     "execution_count": 5,
     "metadata": {},
     "output_type": "execute_result"
    }
   ],
   "source": [
    "data = pd.DataFrame(\n",
    "    data,\n",
    "    columns = ['f', 'c_1', 'c_2']\n",
    ")\n",
    "\n",
    "data"
   ]
  },
  {
   "cell_type": "code",
   "execution_count": 6,
   "metadata": {},
   "outputs": [
    {
     "data": {
      "text/plain": [
       "(array([1., 5.]), array([4., 2.]))"
      ]
     },
     "execution_count": 6,
     "metadata": {},
     "output_type": "execute_result"
    }
   ],
   "source": [
    "data.c_1.unique(), data.c_2.unique()"
   ]
  },
  {
   "cell_type": "code",
   "execution_count": 7,
   "metadata": {},
   "outputs": [
    {
     "data": {
      "text/html": [
       "<div>\n",
       "<style scoped>\n",
       "    .dataframe tbody tr th:only-of-type {\n",
       "        vertical-align: middle;\n",
       "    }\n",
       "\n",
       "    .dataframe tbody tr th {\n",
       "        vertical-align: top;\n",
       "    }\n",
       "\n",
       "    .dataframe thead th {\n",
       "        text-align: right;\n",
       "    }\n",
       "</style>\n",
       "<table border=\"1\" class=\"dataframe\">\n",
       "  <thead>\n",
       "    <tr style=\"text-align: right;\">\n",
       "      <th></th>\n",
       "      <th>df</th>\n",
       "      <th>sum_sq</th>\n",
       "      <th>mean_sq</th>\n",
       "      <th>F</th>\n",
       "      <th>PR(&gt;F)</th>\n",
       "    </tr>\n",
       "  </thead>\n",
       "  <tbody>\n",
       "    <tr>\n",
       "      <th>C(c_1)</th>\n",
       "      <td>1.0</td>\n",
       "      <td>1.544967</td>\n",
       "      <td>1.544967</td>\n",
       "      <td>1.482622</td>\n",
       "      <td>0.223653</td>\n",
       "    </tr>\n",
       "    <tr>\n",
       "      <th>C(c_2)</th>\n",
       "      <td>1.0</td>\n",
       "      <td>0.049420</td>\n",
       "      <td>0.049420</td>\n",
       "      <td>0.047426</td>\n",
       "      <td>0.827649</td>\n",
       "    </tr>\n",
       "    <tr>\n",
       "      <th>C(c_1):C(c_2)</th>\n",
       "      <td>1.0</td>\n",
       "      <td>1.054838</td>\n",
       "      <td>1.054838</td>\n",
       "      <td>1.012272</td>\n",
       "      <td>0.314604</td>\n",
       "    </tr>\n",
       "    <tr>\n",
       "      <th>Residual</th>\n",
       "      <td>996.0</td>\n",
       "      <td>1037.882055</td>\n",
       "      <td>1.042050</td>\n",
       "      <td>NaN</td>\n",
       "      <td>NaN</td>\n",
       "    </tr>\n",
       "  </tbody>\n",
       "</table>\n",
       "</div>"
      ],
      "text/plain": [
       "                  df       sum_sq   mean_sq         F    PR(>F)\n",
       "C(c_1)           1.0     1.544967  1.544967  1.482622  0.223653\n",
       "C(c_2)           1.0     0.049420  0.049420  0.047426  0.827649\n",
       "C(c_1):C(c_2)    1.0     1.054838  1.054838  1.012272  0.314604\n",
       "Residual       996.0  1037.882055  1.042050       NaN       NaN"
      ]
     },
     "execution_count": 7,
     "metadata": {},
     "output_type": "execute_result"
    }
   ],
   "source": [
    "lm = ols('f ~ C(c_1) * C(c_2)', data=data).fit()\n",
    "result = sm.stats.anova_lm(lm, typ=1)\n",
    "result"
   ]
  },
  {
   "cell_type": "markdown",
   "metadata": {},
   "source": [
    "### Проверить с использованием двухфакторного дисперсионного анализа, влияет ли переменная C1 на переменную f в данной линейной модели? "
   ]
  },
  {
   "cell_type": "code",
   "execution_count": 8,
   "metadata": {},
   "outputs": [
    {
     "data": {
      "text/plain": [
       "0.22365310616961456"
      ]
     },
     "execution_count": 8,
     "metadata": {},
     "output_type": "execute_result"
    }
   ],
   "source": [
    "result.loc['C(c_1)', 'PR(>F)']"
   ]
  },
  {
   "cell_type": "markdown",
   "metadata": {},
   "source": [
    "PR(>F) > 0.05 для c_1 $\\Rightarrow$ не влияет"
   ]
  },
  {
   "cell_type": "markdown",
   "metadata": {},
   "source": [
    "### Проверить с использованием двухфакторного дисперсионного анализа, влияет ли переменная C2 на переменную f в данной линейной модели? "
   ]
  },
  {
   "cell_type": "code",
   "execution_count": 9,
   "metadata": {},
   "outputs": [
    {
     "data": {
      "text/plain": [
       "0.8276488900995266"
      ]
     },
     "execution_count": 9,
     "metadata": {},
     "output_type": "execute_result"
    }
   ],
   "source": [
    "result.loc['C(c_2)', 'PR(>F)']"
   ]
  },
  {
   "cell_type": "markdown",
   "metadata": {},
   "source": [
    "PR(>F) > 0.05 для c_2 $\\Rightarrow$ не влияет"
   ]
  },
  {
   "cell_type": "markdown",
   "metadata": {},
   "source": [
    "### Проверить с использованием двухфакторного дисперсионного анализа, влияет ли межфакторное взаимодействие на переменную f в данной линейной модели?"
   ]
  },
  {
   "cell_type": "code",
   "execution_count": 10,
   "metadata": {},
   "outputs": [
    {
     "data": {
      "text/plain": [
       "0.3146035167728024"
      ]
     },
     "execution_count": 10,
     "metadata": {},
     "output_type": "execute_result"
    }
   ],
   "source": [
    "result.loc['C(c_1):C(c_2)', 'PR(>F)']"
   ]
  },
  {
   "cell_type": "markdown",
   "metadata": {},
   "source": [
    "PR(>F) > 0.05 для c_1:с_2 $\\Rightarrow$ не влияет"
   ]
  },
  {
   "cell_type": "code",
   "execution_count": 11,
   "metadata": {},
   "outputs": [
    {
     "data": {
      "image/png": "[encoded data removed]",
      "text/plain": [
       "<Figure size 432x288 with 1 Axes>"
      ]
     },
     "metadata": {
      "needs_background": "light"
     },
     "output_type": "display_data"
    }
   ],
   "source": [
    "plt.title('c_1: c_2')\n",
    "_ = sns.pointplot(x=\"c_1\", y=\"f\", data=data, hue = 'c_2')\n",
    "plt.show()"
   ]
  },
  {
   "cell_type": "code",
   "execution_count": 12,
   "metadata": {},
   "outputs": [
    {
     "data": {
      "image/png": "[encoded data removed]",
      "text/plain": [
       "<Figure size 432x288 with 1 Axes>"
      ]
     },
     "metadata": {
      "needs_background": "light"
     },
     "output_type": "display_data"
    }
   ],
   "source": [
    "plt.title('c_1: c_2')\n",
    "_ = sns.pointplot(x=\"c_2\", y=\"f\", data=data, hue = 'c_1')\n",
    "plt.show()"
   ]
  },
  {
   "cell_type": "code",
   "execution_count": 13,
   "metadata": {},
   "outputs": [
    {
     "data": {
      "text/html": [
       "<div>\n",
       "<style scoped>\n",
       "    .dataframe tbody tr th:only-of-type {\n",
       "        vertical-align: middle;\n",
       "    }\n",
       "\n",
       "    .dataframe tbody tr th {\n",
       "        vertical-align: top;\n",
       "    }\n",
       "\n",
       "    .dataframe thead th {\n",
       "        text-align: right;\n",
       "    }\n",
       "</style>\n",
       "<table border=\"1\" class=\"dataframe\">\n",
       "  <thead>\n",
       "    <tr style=\"text-align: right;\">\n",
       "      <th></th>\n",
       "      <th>profit</th>\n",
       "      <th>age</th>\n",
       "      <th>employees</th>\n",
       "    </tr>\n",
       "  </thead>\n",
       "  <tbody>\n",
       "    <tr>\n",
       "      <th>0</th>\n",
       "      <td>1.049671e+10</td>\n",
       "      <td>38</td>\n",
       "      <td>1417</td>\n",
       "    </tr>\n",
       "    <tr>\n",
       "      <th>1</th>\n",
       "      <td>9.861736e+09</td>\n",
       "      <td>31</td>\n",
       "      <td>1222</td>\n",
       "    </tr>\n",
       "    <tr>\n",
       "      <th>2</th>\n",
       "      <td>1.064769e+10</td>\n",
       "      <td>28</td>\n",
       "      <td>1119</td>\n",
       "    </tr>\n",
       "    <tr>\n",
       "      <th>3</th>\n",
       "      <td>1.152303e+10</td>\n",
       "      <td>41</td>\n",
       "      <td>1337</td>\n",
       "    </tr>\n",
       "    <tr>\n",
       "      <th>4</th>\n",
       "      <td>9.765847e+09</td>\n",
       "      <td>45</td>\n",
       "      <td>1942</td>\n",
       "    </tr>\n",
       "  </tbody>\n",
       "</table>\n",
       "</div>"
      ],
      "text/plain": [
       "         profit  age  employees\n",
       "0  1.049671e+10   38       1417\n",
       "1  9.861736e+09   31       1222\n",
       "2  1.064769e+10   28       1119\n",
       "3  1.152303e+10   41       1337\n",
       "4  9.765847e+09   45       1942"
      ]
     },
     "execution_count": 13,
     "metadata": {},
     "output_type": "execute_result"
    }
   ],
   "source": [
    "rs = np.random.RandomState(42)\n",
    "\n",
    "df = pd.DataFrame()\n",
    "df['profit'] = rs.normal(1e10, 1e9, 50)\n",
    "df['age'] = list(map(int, rs.normal(35, 10, 50)))\n",
    "df['employees'] = list(map(int, rs.uniform(1000, 2000, 50)))\n",
    "df.head()"
   ]
  },
  {
   "cell_type": "code",
   "execution_count": 14,
   "metadata": {},
   "outputs": [
    {
     "data": {
      "image/png": "[encoded data removed]",
      "text/plain": [
       "<Figure size 540x540 with 12 Axes>"
      ]
     },
     "metadata": {
      "needs_background": "light"
     },
     "output_type": "display_data"
    }
   ],
   "source": [
    "sns.pairplot(data = df)\n",
    "None"
   ]
  },
  {
   "cell_type": "code",
   "execution_count": 15,
   "metadata": {},
   "outputs": [
    {
     "data": {
      "text/plain": [
       "<seaborn.axisgrid.JointGrid at 0x1c5f9e6b700>"
      ]
     },
     "execution_count": 15,
     "metadata": {},
     "output_type": "execute_result"
    },
    {
     "data": {
      "image/png": "[encoded data removed]",
      "text/plain": [
       "<Figure size 432x432 with 3 Axes>"
      ]
     },
     "metadata": {
      "needs_background": "light"
     },
     "output_type": "display_data"
    }
   ],
   "source": [
    "sns.jointplot(data=df, x='age', y='profit', kind='reg')"
   ]
  },
  {
   "cell_type": "code",
   "execution_count": 16,
   "metadata": {},
   "outputs": [
    {
     "data": {
      "text/html": [
       "<style type=\"text/css\">\n",
       "#T_becd3_row0_col0, #T_becd3_row1_col1, #T_becd3_row2_col2 {\n",
       "  background-color: #b40426;\n",
       "  color: #f1f1f1;\n",
       "}\n",
       "#T_becd3_row0_col1 {\n",
       "  background-color: #7ea1fa;\n",
       "  color: #f1f1f1;\n",
       "}\n",
       "#T_becd3_row0_col2 {\n",
       "  background-color: #9fbfff;\n",
       "  color: #000000;\n",
       "}\n",
       "#T_becd3_row1_col0, #T_becd3_row1_col2, #T_becd3_row2_col1 {\n",
       "  background-color: #3b4cc0;\n",
       "  color: #f1f1f1;\n",
       "}\n",
       "#T_becd3_row2_col0 {\n",
       "  background-color: #5f7fe8;\n",
       "  color: #f1f1f1;\n",
       "}\n",
       "</style>\n",
       "<table id=\"T_becd3_\">\n",
       "  <thead>\n",
       "    <tr>\n",
       "      <th class=\"blank level0\" >&nbsp;</th>\n",
       "      <th class=\"col_heading level0 col0\" >profit</th>\n",
       "      <th class=\"col_heading level0 col1\" >age</th>\n",
       "      <th class=\"col_heading level0 col2\" >employees</th>\n",
       "    </tr>\n",
       "  </thead>\n",
       "  <tbody>\n",
       "    <tr>\n",
       "      <th id=\"T_becd3_level0_row0\" class=\"row_heading level0 row0\" >profit</th>\n",
       "      <td id=\"T_becd3_row0_col0\" class=\"data row0 col0\" >1.00</td>\n",
       "      <td id=\"T_becd3_row0_col1\" class=\"data row0 col1\" >0.11</td>\n",
       "      <td id=\"T_becd3_row0_col2\" class=\"data row0 col2\" >0.22</td>\n",
       "    </tr>\n",
       "    <tr>\n",
       "      <th id=\"T_becd3_level0_row1\" class=\"row_heading level0 row1\" >age</th>\n",
       "      <td id=\"T_becd3_row1_col0\" class=\"data row1 col0\" >0.11</td>\n",
       "      <td id=\"T_becd3_row1_col1\" class=\"data row1 col1\" >1.00</td>\n",
       "      <td id=\"T_becd3_row1_col2\" class=\"data row1 col2\" >-0.13</td>\n",
       "    </tr>\n",
       "    <tr>\n",
       "      <th id=\"T_becd3_level0_row2\" class=\"row_heading level0 row2\" >employees</th>\n",
       "      <td id=\"T_becd3_row2_col0\" class=\"data row2 col0\" >0.22</td>\n",
       "      <td id=\"T_becd3_row2_col1\" class=\"data row2 col1\" >-0.13</td>\n",
       "      <td id=\"T_becd3_row2_col2\" class=\"data row2 col2\" >1.00</td>\n",
       "    </tr>\n",
       "  </tbody>\n",
       "</table>\n"
      ],
      "text/plain": [
       "<pandas.io.formats.style.Styler at 0x1c5f9e58880>"
      ]
     },
     "execution_count": 16,
     "metadata": {},
     "output_type": "execute_result"
    }
   ],
   "source": [
    "df.corr().style.background_gradient(cmap='coolwarm').format(precision = 2)"
   ]
  },
  {
   "cell_type": "code",
   "execution_count": 17,
   "metadata": {},
   "outputs": [
    {
     "data": {
      "image/png": "[encoded data removed]",
      "text/plain": [
       "<Figure size 432x288 with 2 Axes>"
      ]
     },
     "metadata": {
      "needs_background": "light"
     },
     "output_type": "display_data"
    }
   ],
   "source": [
    "sns.heatmap(df.corr(method='spearman'), annot=True, fmt=\".2f\");"
   ]
  },
  {
   "cell_type": "code",
   "execution_count": 18,
   "metadata": {},
   "outputs": [
    {
     "data": {
      "text/html": [
       "<div>\n",
       "<style scoped>\n",
       "    .dataframe tbody tr th:only-of-type {\n",
       "        vertical-align: middle;\n",
       "    }\n",
       "\n",
       "    .dataframe tbody tr th {\n",
       "        vertical-align: top;\n",
       "    }\n",
       "\n",
       "    .dataframe thead th {\n",
       "        text-align: right;\n",
       "    }\n",
       "</style>\n",
       "<table border=\"1\" class=\"dataframe\">\n",
       "  <thead>\n",
       "    <tr style=\"text-align: right;\">\n",
       "      <th></th>\n",
       "      <th>df</th>\n",
       "      <th>sum_sq</th>\n",
       "      <th>mean_sq</th>\n",
       "      <th>F</th>\n",
       "      <th>PR(&gt;F)</th>\n",
       "    </tr>\n",
       "  </thead>\n",
       "  <tbody>\n",
       "    <tr>\n",
       "      <th>employees</th>\n",
       "      <td>1.0</td>\n",
       "      <td>1.981702e+18</td>\n",
       "      <td>1.981702e+18</td>\n",
       "      <td>2.296327</td>\n",
       "      <td>0.136522</td>\n",
       "    </tr>\n",
       "    <tr>\n",
       "      <th>age</th>\n",
       "      <td>1.0</td>\n",
       "      <td>7.984987e+17</td>\n",
       "      <td>7.984987e+17</td>\n",
       "      <td>0.925272</td>\n",
       "      <td>0.341124</td>\n",
       "    </tr>\n",
       "    <tr>\n",
       "      <th>employees:age</th>\n",
       "      <td>1.0</td>\n",
       "      <td>2.374836e+17</td>\n",
       "      <td>2.374836e+17</td>\n",
       "      <td>0.275188</td>\n",
       "      <td>0.602392</td>\n",
       "    </tr>\n",
       "    <tr>\n",
       "      <th>Residual</th>\n",
       "      <td>46.0</td>\n",
       "      <td>3.969745e+19</td>\n",
       "      <td>8.629880e+17</td>\n",
       "      <td>NaN</td>\n",
       "      <td>NaN</td>\n",
       "    </tr>\n",
       "  </tbody>\n",
       "</table>\n",
       "</div>"
      ],
      "text/plain": [
       "                 df        sum_sq       mean_sq         F    PR(>F)\n",
       "employees       1.0  1.981702e+18  1.981702e+18  2.296327  0.136522\n",
       "age             1.0  7.984987e+17  7.984987e+17  0.925272  0.341124\n",
       "employees:age   1.0  2.374836e+17  2.374836e+17  0.275188  0.602392\n",
       "Residual       46.0  3.969745e+19  8.629880e+17       NaN       NaN"
      ]
     },
     "execution_count": 18,
     "metadata": {},
     "output_type": "execute_result"
    }
   ],
   "source": [
    "lm = ols('profit ~ employees * age', data=df).fit()\n",
    "result = sm.stats.anova_lm(lm, typ=1)\n",
    "result"
   ]
  },
  {
   "cell_type": "code",
   "execution_count": 19,
   "metadata": {},
   "outputs": [
    {
     "data": {
      "text/html": [
       "<div>\n",
       "<style scoped>\n",
       "    .dataframe tbody tr th:only-of-type {\n",
       "        vertical-align: middle;\n",
       "    }\n",
       "\n",
       "    .dataframe tbody tr th {\n",
       "        vertical-align: top;\n",
       "    }\n",
       "\n",
       "    .dataframe thead th {\n",
       "        text-align: right;\n",
       "    }\n",
       "</style>\n",
       "<table border=\"1\" class=\"dataframe\">\n",
       "  <thead>\n",
       "    <tr style=\"text-align: right;\">\n",
       "      <th></th>\n",
       "      <th>df</th>\n",
       "      <th>sum_sq</th>\n",
       "      <th>mean_sq</th>\n",
       "      <th>F</th>\n",
       "      <th>PR(&gt;F)</th>\n",
       "    </tr>\n",
       "  </thead>\n",
       "  <tbody>\n",
       "    <tr>\n",
       "      <th>age</th>\n",
       "      <td>1.0</td>\n",
       "      <td>4.986675e+17</td>\n",
       "      <td>4.986675e+17</td>\n",
       "      <td>0.566984</td>\n",
       "      <td>0.455137</td>\n",
       "    </tr>\n",
       "    <tr>\n",
       "      <th>Residual</th>\n",
       "      <td>48.0</td>\n",
       "      <td>4.221646e+19</td>\n",
       "      <td>8.795097e+17</td>\n",
       "      <td>NaN</td>\n",
       "      <td>NaN</td>\n",
       "    </tr>\n",
       "  </tbody>\n",
       "</table>\n",
       "</div>"
      ],
      "text/plain": [
       "            df        sum_sq       mean_sq         F    PR(>F)\n",
       "age        1.0  4.986675e+17  4.986675e+17  0.566984  0.455137\n",
       "Residual  48.0  4.221646e+19  8.795097e+17       NaN       NaN"
      ]
     },
     "execution_count": 19,
     "metadata": {},
     "output_type": "execute_result"
    }
   ],
   "source": [
    "lm = ols('profit ~ age', data=df).fit()\n",
    "result = sm.stats.anova_lm(lm, typ=1)\n",
    "result"
   ]
  }
 ],
 "metadata": {
  "colab": {
   "name": "sem3.ipynb",
   "provenance": []
  },
  "kernelspec": {
   "display_name": "Python 3 (ipykernel)",
   "language": "python",
   "name": "python3"
  },
  "language_info": {
   "codemirror_mode": {
    "name": "ipython",
    "version": 3
   },
   "file_extension": ".py",
   "mimetype": "text/x-python",
   "name": "python",
   "nbconvert_exporter": "python",
   "pygments_lexer": "ipython3",
   "version": "3.9.7"
  }
 },
 "nbformat": 4,
 "nbformat_minor": 1
}
