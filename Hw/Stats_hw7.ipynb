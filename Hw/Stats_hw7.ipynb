{
 "cells": [
  {
   "cell_type": "code",
   "execution_count": 318,
   "id": "7e94ce51",
   "metadata": {},
   "outputs": [],
   "source": [
    "from zlib import crc32\n",
    "import numpy as np\n",
    "import pandas as pd\n",
    "import scipy.stats as st\n",
    "import matplotlib.pylab as plt\n",
    "import pandas as pd\n",
    "import seaborn as sns\n",
    "from statsmodels.regression.linear_model import OLS\n",
    "from statsmodels.stats.diagnostic import het_breuschpagan\n",
    "import statsmodels.api as sm\n",
    "from statsmodels.tools.tools import add_constant"
   ]
  },
  {
   "cell_type": "code",
   "execution_count": 319,
   "id": "f424c1a4",
   "metadata": {},
   "outputs": [],
   "source": [
    "import re\n",
    "EMAIL_REGEX = re.compile(r\"[^@]+@phystech.edu\")\n",
    "\n",
    "def generate_dataset(code):\n",
    "    rs = np.random.RandomState(code)\n",
    "    tip = rs.randint(low=0, high=3) \n",
    "    print(\"my tip is\", tip)\n",
    "    if tip == 0:\n",
    "        w = [1, 1, 1, 1, 1, 0, 0, 0, 0, 0]\n",
    "    if tip == 1:\n",
    "        w= [1, 1, 1, 1, 1, 0, 0, 0, 0, 0][::-1]\n",
    "    if tip == 2:\n",
    "        w = [0]*10\n",
    "    print(\"my coefficients are\", w)\n",
    "    x = rs.randn(1000, 10)    \n",
    "    y = np.dot(x, w) + rs.randn(1000)*0.0001\n",
    "    y[100:] += 10*rs.randn(900)*rs.uniform(size = 900)    \n",
    "    y -= np.min(y) - 0.01\n",
    "    return np.hstack([y.reshape(1000,1), x])"
   ]
  },
  {
   "cell_type": "code",
   "execution_count": 320,
   "id": "a0d937cf",
   "metadata": {},
   "outputs": [
    {
     "name": "stdout",
     "output_type": "stream",
     "text": [
      "Enter your mail: yurchenko.aa@phystech.edu\n",
      "my tip is 0\n",
      "my coefficients are [1, 1, 1, 1, 1, 0, 0, 0, 0, 0]\n"
     ]
    }
   ],
   "source": [
    "task = dict()\n",
    "task['mail'] = input(prompt='Enter your mail: ')\n",
    "assert EMAIL_REGEX.match(task['mail']), 'Not a mail in the phystech.edu domain'\n",
    "task['id'] = crc32(task['mail'].encode('utf-8'))\n",
    "task['data'] = generate_dataset(task['id'])\n",
    "\n",
    "#task # yurchenko.aa@phystech.edu"
   ]
  },
  {
   "cell_type": "code",
   "execution_count": 321,
   "id": "e1fd5d73",
   "metadata": {},
   "outputs": [],
   "source": [
    "data = task['data']\n",
    "data = pd.DataFrame(data)"
   ]
  },
  {
   "cell_type": "code",
   "execution_count": 322,
   "id": "9c5cff63",
   "metadata": {},
   "outputs": [
    {
     "data": {
      "text/html": [
       "<div>\n",
       "<style scoped>\n",
       "    .dataframe tbody tr th:only-of-type {\n",
       "        vertical-align: middle;\n",
       "    }\n",
       "\n",
       "    .dataframe tbody tr th {\n",
       "        vertical-align: top;\n",
       "    }\n",
       "\n",
       "    .dataframe thead th {\n",
       "        text-align: right;\n",
       "    }\n",
       "</style>\n",
       "<table border=\"1\" class=\"dataframe\">\n",
       "  <thead>\n",
       "    <tr style=\"text-align: right;\">\n",
       "      <th></th>\n",
       "      <th>Y</th>\n",
       "      <th>X0</th>\n",
       "      <th>X1</th>\n",
       "      <th>X2</th>\n",
       "      <th>X3</th>\n",
       "      <th>X4</th>\n",
       "      <th>X5</th>\n",
       "      <th>X6</th>\n",
       "      <th>X7</th>\n",
       "      <th>X8</th>\n",
       "      <th>X9</th>\n",
       "    </tr>\n",
       "  </thead>\n",
       "  <tbody>\n",
       "    <tr>\n",
       "      <th>0</th>\n",
       "      <td>29.948454</td>\n",
       "      <td>-0.108077</td>\n",
       "      <td>0.073565</td>\n",
       "      <td>-0.739063</td>\n",
       "      <td>-0.641630</td>\n",
       "      <td>0.182864</td>\n",
       "      <td>0.598147</td>\n",
       "      <td>0.924532</td>\n",
       "      <td>-2.038332</td>\n",
       "      <td>-0.177079</td>\n",
       "      <td>0.433530</td>\n",
       "    </tr>\n",
       "    <tr>\n",
       "      <th>1</th>\n",
       "      <td>30.900656</td>\n",
       "      <td>1.337107</td>\n",
       "      <td>0.019932</td>\n",
       "      <td>-0.618003</td>\n",
       "      <td>-0.810914</td>\n",
       "      <td>-0.208075</td>\n",
       "      <td>-0.311877</td>\n",
       "      <td>-0.180383</td>\n",
       "      <td>0.587799</td>\n",
       "      <td>1.119815</td>\n",
       "      <td>0.510174</td>\n",
       "    </tr>\n",
       "    <tr>\n",
       "      <th>2</th>\n",
       "      <td>32.008953</td>\n",
       "      <td>-0.090716</td>\n",
       "      <td>-1.690525</td>\n",
       "      <td>2.889488</td>\n",
       "      <td>0.463301</td>\n",
       "      <td>-0.743108</td>\n",
       "      <td>-0.078447</td>\n",
       "      <td>0.538421</td>\n",
       "      <td>1.773295</td>\n",
       "      <td>1.111653</td>\n",
       "      <td>1.452203</td>\n",
       "    </tr>\n",
       "    <tr>\n",
       "      <th>3</th>\n",
       "      <td>30.453012</td>\n",
       "      <td>0.121320</td>\n",
       "      <td>0.067458</td>\n",
       "      <td>-0.412663</td>\n",
       "      <td>-0.176660</td>\n",
       "      <td>-0.327080</td>\n",
       "      <td>0.574946</td>\n",
       "      <td>0.547133</td>\n",
       "      <td>-0.832182</td>\n",
       "      <td>-2.168758</td>\n",
       "      <td>-2.164167</td>\n",
       "    </tr>\n",
       "    <tr>\n",
       "      <th>4</th>\n",
       "      <td>28.515702</td>\n",
       "      <td>-0.203283</td>\n",
       "      <td>-0.799898</td>\n",
       "      <td>0.396551</td>\n",
       "      <td>-1.318746</td>\n",
       "      <td>-0.739434</td>\n",
       "      <td>0.120590</td>\n",
       "      <td>-0.527805</td>\n",
       "      <td>-0.339737</td>\n",
       "      <td>0.398977</td>\n",
       "      <td>0.397435</td>\n",
       "    </tr>\n",
       "    <tr>\n",
       "      <th>...</th>\n",
       "      <td>...</td>\n",
       "      <td>...</td>\n",
       "      <td>...</td>\n",
       "      <td>...</td>\n",
       "      <td>...</td>\n",
       "      <td>...</td>\n",
       "      <td>...</td>\n",
       "      <td>...</td>\n",
       "      <td>...</td>\n",
       "      <td>...</td>\n",
       "      <td>...</td>\n",
       "    </tr>\n",
       "    <tr>\n",
       "      <th>995</th>\n",
       "      <td>18.071617</td>\n",
       "      <td>-1.460692</td>\n",
       "      <td>-1.063925</td>\n",
       "      <td>-0.412149</td>\n",
       "      <td>-2.597832</td>\n",
       "      <td>-0.246309</td>\n",
       "      <td>0.449440</td>\n",
       "      <td>0.457701</td>\n",
       "      <td>1.465027</td>\n",
       "      <td>0.951335</td>\n",
       "      <td>-0.373555</td>\n",
       "    </tr>\n",
       "    <tr>\n",
       "      <th>996</th>\n",
       "      <td>30.807960</td>\n",
       "      <td>-1.836698</td>\n",
       "      <td>0.633145</td>\n",
       "      <td>-0.158628</td>\n",
       "      <td>-0.419342</td>\n",
       "      <td>-0.519462</td>\n",
       "      <td>-0.480677</td>\n",
       "      <td>0.199614</td>\n",
       "      <td>1.196476</td>\n",
       "      <td>-0.439154</td>\n",
       "      <td>0.402727</td>\n",
       "    </tr>\n",
       "    <tr>\n",
       "      <th>997</th>\n",
       "      <td>27.989149</td>\n",
       "      <td>0.446594</td>\n",
       "      <td>1.000139</td>\n",
       "      <td>0.889586</td>\n",
       "      <td>-0.555495</td>\n",
       "      <td>0.556500</td>\n",
       "      <td>-1.093196</td>\n",
       "      <td>-1.652624</td>\n",
       "      <td>-0.328317</td>\n",
       "      <td>-0.920418</td>\n",
       "      <td>-0.015413</td>\n",
       "    </tr>\n",
       "    <tr>\n",
       "      <th>998</th>\n",
       "      <td>21.542390</td>\n",
       "      <td>-0.024348</td>\n",
       "      <td>-1.444288</td>\n",
       "      <td>0.915267</td>\n",
       "      <td>-0.606401</td>\n",
       "      <td>0.962993</td>\n",
       "      <td>1.603586</td>\n",
       "      <td>1.147910</td>\n",
       "      <td>-0.017891</td>\n",
       "      <td>0.735947</td>\n",
       "      <td>-0.194602</td>\n",
       "    </tr>\n",
       "    <tr>\n",
       "      <th>999</th>\n",
       "      <td>28.759461</td>\n",
       "      <td>-0.401852</td>\n",
       "      <td>-0.079762</td>\n",
       "      <td>-1.284093</td>\n",
       "      <td>-1.389688</td>\n",
       "      <td>0.855886</td>\n",
       "      <td>-0.050717</td>\n",
       "      <td>0.999567</td>\n",
       "      <td>-1.406924</td>\n",
       "      <td>3.093051</td>\n",
       "      <td>-0.865991</td>\n",
       "    </tr>\n",
       "  </tbody>\n",
       "</table>\n",
       "<p>1000 rows × 11 columns</p>\n",
       "</div>"
      ],
      "text/plain": [
       "             Y        X0        X1        X2        X3        X4        X5  \\\n",
       "0    29.948454 -0.108077  0.073565 -0.739063 -0.641630  0.182864  0.598147   \n",
       "1    30.900656  1.337107  0.019932 -0.618003 -0.810914 -0.208075 -0.311877   \n",
       "2    32.008953 -0.090716 -1.690525  2.889488  0.463301 -0.743108 -0.078447   \n",
       "3    30.453012  0.121320  0.067458 -0.412663 -0.176660 -0.327080  0.574946   \n",
       "4    28.515702 -0.203283 -0.799898  0.396551 -1.318746 -0.739434  0.120590   \n",
       "..         ...       ...       ...       ...       ...       ...       ...   \n",
       "995  18.071617 -1.460692 -1.063925 -0.412149 -2.597832 -0.246309  0.449440   \n",
       "996  30.807960 -1.836698  0.633145 -0.158628 -0.419342 -0.519462 -0.480677   \n",
       "997  27.989149  0.446594  1.000139  0.889586 -0.555495  0.556500 -1.093196   \n",
       "998  21.542390 -0.024348 -1.444288  0.915267 -0.606401  0.962993  1.603586   \n",
       "999  28.759461 -0.401852 -0.079762 -1.284093 -1.389688  0.855886 -0.050717   \n",
       "\n",
       "           X6        X7        X8        X9  \n",
       "0    0.924532 -2.038332 -0.177079  0.433530  \n",
       "1   -0.180383  0.587799  1.119815  0.510174  \n",
       "2    0.538421  1.773295  1.111653  1.452203  \n",
       "3    0.547133 -0.832182 -2.168758 -2.164167  \n",
       "4   -0.527805 -0.339737  0.398977  0.397435  \n",
       "..        ...       ...       ...       ...  \n",
       "995  0.457701  1.465027  0.951335 -0.373555  \n",
       "996  0.199614  1.196476 -0.439154  0.402727  \n",
       "997 -1.652624 -0.328317 -0.920418 -0.015413  \n",
       "998  1.147910 -0.017891  0.735947 -0.194602  \n",
       "999  0.999567 -1.406924  3.093051 -0.865991  \n",
       "\n",
       "[1000 rows x 11 columns]"
      ]
     },
     "execution_count": 322,
     "metadata": {},
     "output_type": "execute_result"
    }
   ],
   "source": [
    "column_names = [\"Y\"]+list(map(lambda idx: f\"X{idx-1}\", data.columns[1:]))\n",
    "data.columns = column_names\n",
    "data"
   ]
  },
  {
   "cell_type": "code",
   "execution_count": 323,
   "id": "c8c57830",
   "metadata": {},
   "outputs": [],
   "source": [
    "X = data.iloc[:, 1:] # data.drop(columns=\"Y\")\n",
    "Y = data.iloc[:, 0] # data[\"Y\"]"
   ]
  },
  {
   "cell_type": "markdown",
   "id": "c9e35c02",
   "metadata": {},
   "source": [
    "### Постройте линейную модель Y от X и свободного коэффициента. Проверьте, есть ли гетероскедастичность в выборке с использованием критерия Бройша-Пагана (использовать F-test, см. справку по критерию) "
   ]
  },
  {
   "cell_type": "code",
   "execution_count": 324,
   "id": "1316e1f5",
   "metadata": {},
   "outputs": [
    {
     "data": {
      "text/plain": [
       "'Y ~ X0 + X1 + X2 + X3 + X4 + X5 + X6 + X7 + X8 + X9 + 1'"
      ]
     },
     "execution_count": 324,
     "metadata": {},
     "output_type": "execute_result"
    }
   ],
   "source": [
    "formula = 'Y ~ ' + ' + '.join(data.columns[1:]) + ' + 1'\n",
    "formula"
   ]
  },
  {
   "cell_type": "code",
   "execution_count": 325,
   "id": "a5b96737",
   "metadata": {},
   "outputs": [
    {
     "data": {
      "text/html": [
       "<table class=\"simpletable\">\n",
       "<caption>OLS Regression Results</caption>\n",
       "<tr>\n",
       "  <th>Dep. Variable:</th>            <td>Y</td>        <th>  R-squared:         </th> <td>   0.137</td>\n",
       "</tr>\n",
       "<tr>\n",
       "  <th>Model:</th>                   <td>OLS</td>       <th>  Adj. R-squared:    </th> <td>   0.129</td>\n",
       "</tr>\n",
       "<tr>\n",
       "  <th>Method:</th>             <td>Least Squares</td>  <th>  F-statistic:       </th> <td>   15.73</td>\n",
       "</tr>\n",
       "<tr>\n",
       "  <th>Date:</th>             <td>Sun, 17 Apr 2022</td> <th>  Prob (F-statistic):</th> <td>1.90e-26</td>\n",
       "</tr>\n",
       "<tr>\n",
       "  <th>Time:</th>                 <td>20:59:25</td>     <th>  Log-Likelihood:    </th> <td> -3083.8</td>\n",
       "</tr>\n",
       "<tr>\n",
       "  <th>No. Observations:</th>      <td>  1000</td>      <th>  AIC:               </th> <td>   6190.</td>\n",
       "</tr>\n",
       "<tr>\n",
       "  <th>Df Residuals:</th>          <td>   989</td>      <th>  BIC:               </th> <td>   6244.</td>\n",
       "</tr>\n",
       "<tr>\n",
       "  <th>Df Model:</th>              <td>    10</td>      <th>                     </th>     <td> </td>   \n",
       "</tr>\n",
       "<tr>\n",
       "  <th>Covariance Type:</th>      <td>nonrobust</td>    <th>                     </th>     <td> </td>   \n",
       "</tr>\n",
       "</table>\n",
       "<table class=\"simpletable\">\n",
       "<tr>\n",
       "      <td></td>         <th>coef</th>     <th>std err</th>      <th>t</th>      <th>P>|t|</th>  <th>[0.025</th>    <th>0.975]</th>  \n",
       "</tr>\n",
       "<tr>\n",
       "  <th>Intercept</th> <td>   30.9093</td> <td>    0.169</td> <td>  183.308</td> <td> 0.000</td> <td>   30.578</td> <td>   31.240</td>\n",
       "</tr>\n",
       "<tr>\n",
       "  <th>X0</th>        <td>    0.8386</td> <td>    0.165</td> <td>    5.092</td> <td> 0.000</td> <td>    0.515</td> <td>    1.162</td>\n",
       "</tr>\n",
       "<tr>\n",
       "  <th>X1</th>        <td>    0.8336</td> <td>    0.167</td> <td>    5.006</td> <td> 0.000</td> <td>    0.507</td> <td>    1.160</td>\n",
       "</tr>\n",
       "<tr>\n",
       "  <th>X2</th>        <td>    0.9323</td> <td>    0.163</td> <td>    5.736</td> <td> 0.000</td> <td>    0.613</td> <td>    1.251</td>\n",
       "</tr>\n",
       "<tr>\n",
       "  <th>X3</th>        <td>    0.6422</td> <td>    0.163</td> <td>    3.932</td> <td> 0.000</td> <td>    0.322</td> <td>    0.963</td>\n",
       "</tr>\n",
       "<tr>\n",
       "  <th>X4</th>        <td>    1.3311</td> <td>    0.172</td> <td>    7.726</td> <td> 0.000</td> <td>    0.993</td> <td>    1.669</td>\n",
       "</tr>\n",
       "<tr>\n",
       "  <th>X5</th>        <td>    0.0375</td> <td>    0.169</td> <td>    0.222</td> <td> 0.824</td> <td>   -0.294</td> <td>    0.369</td>\n",
       "</tr>\n",
       "<tr>\n",
       "  <th>X6</th>        <td>   -0.1600</td> <td>    0.171</td> <td>   -0.936</td> <td> 0.350</td> <td>   -0.495</td> <td>    0.176</td>\n",
       "</tr>\n",
       "<tr>\n",
       "  <th>X7</th>        <td>    0.0202</td> <td>    0.164</td> <td>    0.123</td> <td> 0.902</td> <td>   -0.302</td> <td>    0.342</td>\n",
       "</tr>\n",
       "<tr>\n",
       "  <th>X8</th>        <td>   -0.0003</td> <td>    0.170</td> <td>   -0.002</td> <td> 0.999</td> <td>   -0.333</td> <td>    0.332</td>\n",
       "</tr>\n",
       "<tr>\n",
       "  <th>X9</th>        <td>   -0.1190</td> <td>    0.169</td> <td>   -0.704</td> <td> 0.482</td> <td>   -0.451</td> <td>    0.213</td>\n",
       "</tr>\n",
       "</table>\n",
       "<table class=\"simpletable\">\n",
       "<tr>\n",
       "  <th>Omnibus:</th>       <td>86.722</td> <th>  Durbin-Watson:     </th> <td>   2.034</td>\n",
       "</tr>\n",
       "<tr>\n",
       "  <th>Prob(Omnibus):</th> <td> 0.000</td> <th>  Jarque-Bera (JB):  </th> <td> 449.245</td>\n",
       "</tr>\n",
       "<tr>\n",
       "  <th>Skew:</th>          <td>-0.170</td> <th>  Prob(JB):          </th> <td>2.80e-98</td>\n",
       "</tr>\n",
       "<tr>\n",
       "  <th>Kurtosis:</th>      <td> 6.266</td> <th>  Cond. No.          </th> <td>    1.15</td>\n",
       "</tr>\n",
       "</table><br/><br/>Notes:<br/>[1] Standard Errors assume that the covariance matrix of the errors is correctly specified."
      ],
      "text/plain": [
       "<class 'statsmodels.iolib.summary.Summary'>\n",
       "\"\"\"\n",
       "                            OLS Regression Results                            \n",
       "==============================================================================\n",
       "Dep. Variable:                      Y   R-squared:                       0.137\n",
       "Model:                            OLS   Adj. R-squared:                  0.129\n",
       "Method:                 Least Squares   F-statistic:                     15.73\n",
       "Date:                Sun, 17 Apr 2022   Prob (F-statistic):           1.90e-26\n",
       "Time:                        20:59:25   Log-Likelihood:                -3083.8\n",
       "No. Observations:                1000   AIC:                             6190.\n",
       "Df Residuals:                     989   BIC:                             6244.\n",
       "Df Model:                          10                                         \n",
       "Covariance Type:            nonrobust                                         \n",
       "==============================================================================\n",
       "                 coef    std err          t      P>|t|      [0.025      0.975]\n",
       "------------------------------------------------------------------------------\n",
       "Intercept     30.9093      0.169    183.308      0.000      30.578      31.240\n",
       "X0             0.8386      0.165      5.092      0.000       0.515       1.162\n",
       "X1             0.8336      0.167      5.006      0.000       0.507       1.160\n",
       "X2             0.9323      0.163      5.736      0.000       0.613       1.251\n",
       "X3             0.6422      0.163      3.932      0.000       0.322       0.963\n",
       "X4             1.3311      0.172      7.726      0.000       0.993       1.669\n",
       "X5             0.0375      0.169      0.222      0.824      -0.294       0.369\n",
       "X6            -0.1600      0.171     -0.936      0.350      -0.495       0.176\n",
       "X7             0.0202      0.164      0.123      0.902      -0.302       0.342\n",
       "X8            -0.0003      0.170     -0.002      0.999      -0.333       0.332\n",
       "X9            -0.1190      0.169     -0.704      0.482      -0.451       0.213\n",
       "==============================================================================\n",
       "Omnibus:                       86.722   Durbin-Watson:                   2.034\n",
       "Prob(Omnibus):                  0.000   Jarque-Bera (JB):              449.245\n",
       "Skew:                          -0.170   Prob(JB):                     2.80e-98\n",
       "Kurtosis:                       6.266   Cond. No.                         1.15\n",
       "==============================================================================\n",
       "\n",
       "Notes:\n",
       "[1] Standard Errors assume that the covariance matrix of the errors is correctly specified.\n",
       "\"\"\""
      ]
     },
     "execution_count": 325,
     "metadata": {},
     "output_type": "execute_result"
    }
   ],
   "source": [
    "model_1 = OLS.from_formula(formula, data).fit()\n",
    "model_1.summary()"
   ]
  },
  {
   "cell_type": "code",
   "execution_count": 326,
   "id": "e62a301c",
   "metadata": {},
   "outputs": [
    {
     "data": {
      "text/plain": [
       "(6.729896359066956, 0.6652176493220276, 0.6707739789060262, 0.7523174295599653)"
      ]
     },
     "execution_count": 326,
     "metadata": {},
     "output_type": "execute_result"
    }
   ],
   "source": [
    "het_breuschpagan(model_1.resid, X, robust=True) # последнее возвращаемое значение: p-value for the f-statistic"
   ]
  },
  {
   "cell_type": "code",
   "execution_count": 327,
   "id": "49357d80",
   "metadata": {},
   "outputs": [
    {
     "data": {
      "text/plain": [
       "True"
      ]
     },
     "execution_count": 327,
     "metadata": {},
     "output_type": "execute_result"
    }
   ],
   "source": [
    "# The tests the hypothesis that the residual variance does not depend on the variables in x in the form\n",
    "het_breuschpagan(model_1.resid, X, robust=True)[-1] > 0.05 # проверка на гетероскедастичность "
   ]
  },
  {
   "cell_type": "code",
   "execution_count": 328,
   "id": "c3746563",
   "metadata": {},
   "outputs": [
    {
     "data": {
      "image/png": "[encoded data removed]",
      "text/plain": [
       "<Figure size 432x288 with 1 Axes>"
      ]
     },
     "metadata": {
      "needs_background": "light"
     },
     "output_type": "display_data"
    }
   ],
   "source": [
    "_ = plt.plot(Y - model_1.resid)"
   ]
  },
  {
   "cell_type": "markdown",
   "id": "a6cc26be",
   "metadata": {},
   "source": [
    "Гетероскедастичности нет. На это указывают p-value > 0.05 и график"
   ]
  },
  {
   "cell_type": "markdown",
   "id": "ae813b4d",
   "metadata": {},
   "source": [
    "### Оптимальное значение lambda для преобразования Бокса-Кокса на переменную Y (использовать scipy.stats) "
   ]
  },
  {
   "cell_type": "code",
   "execution_count": 329,
   "id": "a643dd2b",
   "metadata": {},
   "outputs": [
    {
     "name": "stdout",
     "output_type": "stream",
     "text": [
      "optimal lambda = 1.162\n"
     ]
    }
   ],
   "source": [
    "_, l = st.boxcox(Y)\n",
    "print('optimal lambda = {:.3f}'.format(l))"
   ]
  },
  {
   "cell_type": "markdown",
   "id": "a51019ab",
   "metadata": {},
   "source": [
    "### Постройте линейную модель Y от X и свободного коэффициента для первых 100 элементов выборки. Сколько переменных являются избыточными согласно t-критерию? Поправку на множественность гипотез проигнорировать "
   ]
  },
  {
   "cell_type": "code",
   "execution_count": 330,
   "id": "bc9055fc",
   "metadata": {},
   "outputs": [
    {
     "data": {
      "text/html": [
       "<table class=\"simpletable\">\n",
       "<caption>OLS Regression Results</caption>\n",
       "<tr>\n",
       "  <th>Dep. Variable:</th>            <td>Y</td>        <th>  R-squared:         </th> <td>   1.000</td> \n",
       "</tr>\n",
       "<tr>\n",
       "  <th>Model:</th>                   <td>OLS</td>       <th>  Adj. R-squared:    </th> <td>   1.000</td> \n",
       "</tr>\n",
       "<tr>\n",
       "  <th>Method:</th>             <td>Least Squares</td>  <th>  F-statistic:       </th> <td>4.173e+09</td>\n",
       "</tr>\n",
       "<tr>\n",
       "  <th>Date:</th>             <td>Sun, 17 Apr 2022</td> <th>  Prob (F-statistic):</th>  <td>  0.00</td>  \n",
       "</tr>\n",
       "<tr>\n",
       "  <th>Time:</th>                 <td>20:59:27</td>     <th>  Log-Likelihood:    </th> <td>  785.26</td> \n",
       "</tr>\n",
       "<tr>\n",
       "  <th>No. Observations:</th>      <td>   100</td>      <th>  AIC:               </th> <td>  -1549.</td> \n",
       "</tr>\n",
       "<tr>\n",
       "  <th>Df Residuals:</th>          <td>    89</td>      <th>  BIC:               </th> <td>  -1520.</td> \n",
       "</tr>\n",
       "<tr>\n",
       "  <th>Df Model:</th>              <td>    10</td>      <th>                     </th>     <td> </td>    \n",
       "</tr>\n",
       "<tr>\n",
       "  <th>Covariance Type:</th>      <td>nonrobust</td>    <th>                     </th>     <td> </td>    \n",
       "</tr>\n",
       "</table>\n",
       "<table class=\"simpletable\">\n",
       "<tr>\n",
       "      <td></td>         <th>coef</th>     <th>std err</th>      <th>t</th>      <th>P>|t|</th>  <th>[0.025</th>    <th>0.975]</th>  \n",
       "</tr>\n",
       "<tr>\n",
       "  <th>Intercept</th> <td>   31.1806</td> <td> 1.06e-05</td> <td> 2.94e+06</td> <td> 0.000</td> <td>   31.181</td> <td>   31.181</td>\n",
       "</tr>\n",
       "<tr>\n",
       "  <th>X0</th>        <td>    1.0000</td> <td> 1.05e-05</td> <td>  9.5e+04</td> <td> 0.000</td> <td>    1.000</td> <td>    1.000</td>\n",
       "</tr>\n",
       "<tr>\n",
       "  <th>X1</th>        <td>    1.0000</td> <td> 1.16e-05</td> <td>  8.6e+04</td> <td> 0.000</td> <td>    1.000</td> <td>    1.000</td>\n",
       "</tr>\n",
       "<tr>\n",
       "  <th>X2</th>        <td>    1.0000</td> <td> 1.01e-05</td> <td> 9.91e+04</td> <td> 0.000</td> <td>    1.000</td> <td>    1.000</td>\n",
       "</tr>\n",
       "<tr>\n",
       "  <th>X3</th>        <td>    1.0000</td> <td> 1.04e-05</td> <td> 9.59e+04</td> <td> 0.000</td> <td>    1.000</td> <td>    1.000</td>\n",
       "</tr>\n",
       "<tr>\n",
       "  <th>X4</th>        <td>    1.0000</td> <td>  1.1e-05</td> <td>  9.1e+04</td> <td> 0.000</td> <td>    1.000</td> <td>    1.000</td>\n",
       "</tr>\n",
       "<tr>\n",
       "  <th>X5</th>        <td> 1.327e-05</td> <td>  1.1e-05</td> <td>    1.201</td> <td> 0.233</td> <td>-8.68e-06</td> <td> 3.52e-05</td>\n",
       "</tr>\n",
       "<tr>\n",
       "  <th>X6</th>        <td> 2.745e-06</td> <td> 1.04e-05</td> <td>    0.265</td> <td> 0.792</td> <td>-1.79e-05</td> <td> 2.33e-05</td>\n",
       "</tr>\n",
       "<tr>\n",
       "  <th>X7</th>        <td> 2.668e-06</td> <td>  9.8e-06</td> <td>    0.272</td> <td> 0.786</td> <td>-1.68e-05</td> <td> 2.21e-05</td>\n",
       "</tr>\n",
       "<tr>\n",
       "  <th>X8</th>        <td> 1.025e-05</td> <td> 1.15e-05</td> <td>    0.889</td> <td> 0.376</td> <td>-1.27e-05</td> <td> 3.32e-05</td>\n",
       "</tr>\n",
       "<tr>\n",
       "  <th>X9</th>        <td> -1.12e-07</td> <td> 9.25e-06</td> <td>   -0.012</td> <td> 0.990</td> <td>-1.85e-05</td> <td> 1.83e-05</td>\n",
       "</tr>\n",
       "</table>\n",
       "<table class=\"simpletable\">\n",
       "<tr>\n",
       "  <th>Omnibus:</th>       <td> 0.247</td> <th>  Durbin-Watson:     </th> <td>   2.074</td>\n",
       "</tr>\n",
       "<tr>\n",
       "  <th>Prob(Omnibus):</th> <td> 0.884</td> <th>  Jarque-Bera (JB):  </th> <td>   0.046</td>\n",
       "</tr>\n",
       "<tr>\n",
       "  <th>Skew:</th>          <td> 0.040</td> <th>  Prob(JB):          </th> <td>   0.977</td>\n",
       "</tr>\n",
       "<tr>\n",
       "  <th>Kurtosis:</th>      <td> 3.067</td> <th>  Cond. No.          </th> <td>    1.79</td>\n",
       "</tr>\n",
       "</table><br/><br/>Notes:<br/>[1] Standard Errors assume that the covariance matrix of the errors is correctly specified."
      ],
      "text/plain": [
       "<class 'statsmodels.iolib.summary.Summary'>\n",
       "\"\"\"\n",
       "                            OLS Regression Results                            \n",
       "==============================================================================\n",
       "Dep. Variable:                      Y   R-squared:                       1.000\n",
       "Model:                            OLS   Adj. R-squared:                  1.000\n",
       "Method:                 Least Squares   F-statistic:                 4.173e+09\n",
       "Date:                Sun, 17 Apr 2022   Prob (F-statistic):               0.00\n",
       "Time:                        20:59:27   Log-Likelihood:                 785.26\n",
       "No. Observations:                 100   AIC:                            -1549.\n",
       "Df Residuals:                      89   BIC:                            -1520.\n",
       "Df Model:                          10                                         \n",
       "Covariance Type:            nonrobust                                         \n",
       "==============================================================================\n",
       "                 coef    std err          t      P>|t|      [0.025      0.975]\n",
       "------------------------------------------------------------------------------\n",
       "Intercept     31.1806   1.06e-05   2.94e+06      0.000      31.181      31.181\n",
       "X0             1.0000   1.05e-05    9.5e+04      0.000       1.000       1.000\n",
       "X1             1.0000   1.16e-05    8.6e+04      0.000       1.000       1.000\n",
       "X2             1.0000   1.01e-05   9.91e+04      0.000       1.000       1.000\n",
       "X3             1.0000   1.04e-05   9.59e+04      0.000       1.000       1.000\n",
       "X4             1.0000    1.1e-05    9.1e+04      0.000       1.000       1.000\n",
       "X5          1.327e-05    1.1e-05      1.201      0.233   -8.68e-06    3.52e-05\n",
       "X6          2.745e-06   1.04e-05      0.265      0.792   -1.79e-05    2.33e-05\n",
       "X7          2.668e-06    9.8e-06      0.272      0.786   -1.68e-05    2.21e-05\n",
       "X8          1.025e-05   1.15e-05      0.889      0.376   -1.27e-05    3.32e-05\n",
       "X9          -1.12e-07   9.25e-06     -0.012      0.990   -1.85e-05    1.83e-05\n",
       "==============================================================================\n",
       "Omnibus:                        0.247   Durbin-Watson:                   2.074\n",
       "Prob(Omnibus):                  0.884   Jarque-Bera (JB):                0.046\n",
       "Skew:                           0.040   Prob(JB):                        0.977\n",
       "Kurtosis:                       3.067   Cond. No.                         1.79\n",
       "==============================================================================\n",
       "\n",
       "Notes:\n",
       "[1] Standard Errors assume that the covariance matrix of the errors is correctly specified.\n",
       "\"\"\""
      ]
     },
     "execution_count": 330,
     "metadata": {},
     "output_type": "execute_result"
    }
   ],
   "source": [
    "model_2 = OLS.from_formula(formula, data.iloc[:100]).fit()\n",
    "model_2.summary()"
   ]
  },
  {
   "cell_type": "markdown",
   "id": "d30a555a",
   "metadata": {},
   "source": [
    "5 последних переменных являются избыточными так как для них P>|t| больше 0.05 (в таблице)"
   ]
  },
  {
   "cell_type": "markdown",
   "id": "cf44dd0a",
   "metadata": {},
   "source": [
    "### Имеет ли смысл данная модель согласно F-критерию? "
   ]
  },
  {
   "cell_type": "code",
   "execution_count": 331,
   "id": "6cce1f8b",
   "metadata": {},
   "outputs": [],
   "source": [
    "def find_p_value(result):\n",
    "    p_value = re.findall(r'(p=\\d\\.\\d+([e][-]\\d+)?)', result)[0][0][2:]\n",
    "    return float(p_value)"
   ]
  },
  {
   "cell_type": "code",
   "execution_count": 332,
   "id": "e1f56bf1",
   "metadata": {},
   "outputs": [
    {
     "data": {
      "text/plain": [
       "'X0 = X1 = X2 = X3 = X4 = X5 = X6 = X7 = X8 = X9 = 0'"
      ]
     },
     "execution_count": 332,
     "metadata": {},
     "output_type": "execute_result"
    }
   ],
   "source": [
    "zero_all = ' = '.join(data.columns[1:]) + ' = 0'\n",
    "zero_all"
   ]
  },
  {
   "cell_type": "code",
   "execution_count": 333,
   "id": "9758e366",
   "metadata": {},
   "outputs": [],
   "source": [
    "result_1 = model_2.f_test(zero_all).summary()"
   ]
  },
  {
   "cell_type": "code",
   "execution_count": 334,
   "id": "8848aa95",
   "metadata": {},
   "outputs": [
    {
     "data": {
      "text/plain": [
       "False"
      ]
     },
     "execution_count": 334,
     "metadata": {},
     "output_type": "execute_result"
    }
   ],
   "source": [
    "find_p_value(result_1) > 0.05"
   ]
  },
  {
   "cell_type": "markdown",
   "id": "273a8b57",
   "metadata": {},
   "source": [
    "p-value < 0.05, Отвергается гипотеза о том, что все коэффициенты равны 0. Модель имеет смысл."
   ]
  },
  {
   "cell_type": "markdown",
   "id": "2833c544",
   "metadata": {},
   "source": [
    "### Можно ли обнулить первые четыре переменные согласно критерию Вальда?"
   ]
  },
  {
   "cell_type": "code",
   "execution_count": 335,
   "id": "e52e0ebc",
   "metadata": {},
   "outputs": [
    {
     "data": {
      "text/plain": [
       "'X0 = X1 = X2 = X3 = 0'"
      ]
     },
     "execution_count": 335,
     "metadata": {},
     "output_type": "execute_result"
    }
   ],
   "source": [
    "zero_first_four = ' = '.join(data.columns[1:5]) + ' = 0'\n",
    "zero_first_four"
   ]
  },
  {
   "cell_type": "code",
   "execution_count": 336,
   "id": "ba86021d",
   "metadata": {},
   "outputs": [
    {
     "data": {
      "text/plain": [
       "False"
      ]
     },
     "execution_count": 336,
     "metadata": {},
     "output_type": "execute_result"
    }
   ],
   "source": [
    "result_2 = model_2.wald_test(zero_first_four).summary()\n",
    "find_p_value(result_2) > 0.05"
   ]
  },
  {
   "cell_type": "markdown",
   "id": "13122d6a",
   "metadata": {},
   "source": [
    "p-value < 0.05, Отвергается гипотеза о том, что первые 4 коэффициента равны 0 - их нельзя занулить."
   ]
  },
  {
   "cell_type": "code",
   "execution_count": 317,
   "id": "7f579ef4",
   "metadata": {},
   "outputs": [
    {
     "name": "stdout",
     "output_type": "stream",
     "text": [
      "1.2590526277079279e-19\n"
     ]
    },
    {
     "data": {
      "text/plain": [
       "False"
      ]
     },
     "execution_count": 317,
     "metadata": {},
     "output_type": "execute_result"
    }
   ],
   "source": [
    "# для модели, включающей все перемнные (напрямую не относится к заданию)\n",
    "result_3 = model_1.wald_test(zero_first_four).summary()\n",
    "print(find_p_value(result_3))\n",
    "find_p_value(result_3) > 0.05"
   ]
  }
 ],
 "metadata": {
  "kernelspec": {
   "display_name": "Python 3 (ipykernel)",
   "language": "python",
   "name": "python3"
  },
  "language_info": {
   "codemirror_mode": {
    "name": "ipython",
    "version": 3
   },
   "file_extension": ".py",
   "mimetype": "text/x-python",
   "name": "python",
   "nbconvert_exporter": "python",
   "pygments_lexer": "ipython3",
   "version": "3.9.7"
  }
 },
 "nbformat": 4,
 "nbformat_minor": 5
}
